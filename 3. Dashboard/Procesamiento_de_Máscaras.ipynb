{
  "nbformat": 4,
  "nbformat_minor": 0,
  "metadata": {
    "colab": {
      "provenance": [],
      "include_colab_link": true
    },
    "kernelspec": {
      "name": "python3",
      "display_name": "Python 3"
    },
    "language_info": {
      "name": "python"
    }
  },
  "cells": [
    {
      "cell_type": "markdown",
      "metadata": {
        "id": "view-in-github",
        "colab_type": "text"
      },
      "source": [
        "<a href=\"https://colab.research.google.com/github/UN-GCPDS/Curso-Corto-LLMs/blob/main/3.%20Dashboard/Procesamiento_de_M%C3%A1scaras.ipynb\" target=\"_parent\"><img src=\"https://colab.research.google.com/assets/colab-badge.svg\" alt=\"Open In Colab\"/></a>"
      ]
    },
    {
      "cell_type": "markdown",
      "source": [
        "![Logo UNAL CHEC](https://github.com/UN-GCPDS/curso_IA_CHEC/blob/main/logo_unal_chec.jpg?raw=1)\n",
        "\n",
        "# **Procesamiento de Máscaras**\n",
        "\n",
        "## **Descripción**\n",
        "\n",
        "Entrenamiento de modelo Tabnet bajo diversas condiciones.\n",
        "\n",
        "### **Profesor - Sesión 1:** Andrés Marino Álvarez Meza y Diego Armando Pérez Rosero"
      ],
      "metadata": {
        "id": "mFZXuItQprV2"
      }
    },
    {
      "cell_type": "code",
      "source": [
        "from google.colab import drive\n",
        "drive.mount('/content/drive')"
      ],
      "metadata": {
        "colab": {
          "base_uri": "https://localhost:8080/"
        },
        "id": "PuPas77Kxpn6",
        "outputId": "d499c970-e025-45a5-928b-784dcbc93a49"
      },
      "execution_count": null,
      "outputs": [
        {
          "output_type": "stream",
          "name": "stdout",
          "text": [
            "Mounted at /content/drive\n"
          ]
        }
      ]
    },
    {
      "cell_type": "code",
      "source": [
        "import numpy as np\n",
        "aux=[]\n",
        "for i in range(1,7):\n",
        "    a=np.load(f'/content/drive/MyDrive/Colab Notebooks/Diego/masks_iteration_{i}.npy').astype(np.float16)\n",
        "    a=a.sum(axis=0)\n",
        "    aux.append(a)\n",
        "    print(a.shape)\n",
        "masks=np.array(aux).astype(np.float16)\n",
        "np.save('/content/drive/MyDrive/Colab Notebooks/Diego/masks.npy',masks )\n",
        "\n",
        "mask=masks.sum(axis=0)\n",
        "mask=mask-np.min(mask)\n",
        "mask=mask/np.max(mask)\n",
        "np.save('/content/drive/MyDrive/Colab Notebooks/Diego/mask.npy',mask)"
      ],
      "metadata": {
        "colab": {
          "base_uri": "https://localhost:8080/"
        },
        "id": "3UMoT8xLFR6N",
        "outputId": "8489a054-6cd9-40d0-f0b2-68d1ff27124d"
      },
      "execution_count": null,
      "outputs": [
        {
          "output_type": "stream",
          "name": "stdout",
          "text": [
            "(166323, 326)\n",
            "(166323, 326)\n",
            "(166323, 326)\n",
            "(166323, 326)\n",
            "(166323, 326)\n",
            "(166323, 326)\n"
          ]
        }
      ]
    },
    {
      "cell_type": "code",
      "source": [],
      "metadata": {
        "id": "Mns31QkuGGXQ"
      },
      "execution_count": null,
      "outputs": []
    }
  ]
}