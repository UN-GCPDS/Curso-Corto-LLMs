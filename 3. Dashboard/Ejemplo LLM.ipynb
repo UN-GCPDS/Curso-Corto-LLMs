{
  "nbformat": 4,
  "nbformat_minor": 0,
  "metadata": {
    "colab": {
      "provenance": [],
      "include_colab_link": true
    },
    "kernelspec": {
      "name": "python3",
      "display_name": "Python 3"
    },
    "language_info": {
      "name": "python"
    }
  },
  "cells": [
    {
      "cell_type": "markdown",
      "metadata": {
        "id": "view-in-github",
        "colab_type": "text"
      },
      "source": [
        "<a href=\"https://colab.research.google.com/github/UN-GCPDS/Curso-Corto-LLMs/blob/main/3.%20Dashboard/Ejemplo%20LLM.ipynb\" target=\"_parent\"><img src=\"https://colab.research.google.com/assets/colab-badge.svg\" alt=\"Open In Colab\"/></a>"
      ]
    },
    {
      "cell_type": "markdown",
      "source": [
        "![Logo UNAL CHEC](https://github.com/UN-GCPDS/curso_IA_CHEC/blob/main/logo_unal_chec.jpg?raw=1)\n",
        "\n",
        "# **Ejemplo LLM**\n",
        "\n",
        "\n",
        "\n",
        "### **Profesor - Sesión 1:** Andrés Marino Álvarez Meza y Diego Armando Pérez Rosero"
      ],
      "metadata": {
        "id": "Dz-2xwhKyQNR"
      }
    },
    {
      "cell_type": "markdown",
      "source": [
        "## INSTALAMOS DEPENDENCIAS"
      ],
      "metadata": {
        "id": "k6Tgxtcm_iM9"
      }
    },
    {
      "cell_type": "code",
      "source": [
        "%%capture\n",
        "!pip install langchain #### LANGCHAIN APROVECHAR LA INFORMACIÓN DATA NO ESTRUCTURA\n",
        "!pip install openai #### MODELO DE LENGUAJE\n",
        "!pip install chroma #### LUGAR / BASE DE DATOS VECTORIZADA\n",
        "!pip install chromadb\n",
        "!pip install langchain_community\n",
        "!pip install tiktoken\n",
        "!sudo apt install tesseract-ocr\n",
        "!pip install pytesseract\n",
        "!pip install PyPDF2 Pillow\n",
        "!pip install pdf2image\n",
        "!sudo apt install poppler-utils\n",
        "!sudo apt install tesseract-ocr-spa\n",
        "!tesseract -l spa\n",
        "!pip install pymupdf\n",
        "!pip install langchain-experimental\n",
        "!git clone https://github.com/UN-GCPDS/Curso-Corto-LLMs\n",
        "!pip install langchain-openai"
      ],
      "metadata": {
        "id": "fnNeuYWw_kRZ"
      },
      "execution_count": 1,
      "outputs": []
    },
    {
      "cell_type": "code",
      "source": [
        "%%capture\n",
        "!pip install httpx==0.27.2"
      ],
      "metadata": {
        "id": "EjJ5ORJgCnlr"
      },
      "execution_count": 2,
      "outputs": []
    },
    {
      "cell_type": "markdown",
      "source": [
        "## IMPORTAMOS DEPENDENCIAS"
      ],
      "metadata": {
        "id": "LlLgDoOF7QRW"
      }
    },
    {
      "cell_type": "code",
      "execution_count": 3,
      "metadata": {
        "id": "22nu1IG17MSL"
      },
      "outputs": [],
      "source": [
        "from langchain_community.document_loaders import Docx2txtLoader #To load word files\n",
        "from langchain.document_loaders import PyPDFLoader #To load pdf files\n",
        "from langchain.vectorstores import Chroma #Vectorial DataBase\n",
        "from langchain.embeddings.openai import OpenAIEmbeddings #Word2Vec Model to tokenizer the text\n",
        "from langchain.text_splitter import RecursiveCharacterTextSplitter #To splitt the text\n",
        "from langchain.chat_models import ChatOpenAI #To load LLM from OPENAI\n",
        "from langchain.chains import RetrievalQA #To build chains to QA tasks\n",
        "from langchain import PromptTemplate #Class that allow the before to get in in production\n",
        "from langchain.chains.summarize import load_summarize_chain #To buil chains to summarize tasks\n",
        "import os\n",
        "from langchain.vectorstores import Chroma #The vectorial database\n",
        "from langchain_community.document_loaders import TextLoader\n",
        "from langchain_community.document_loaders import TextLoader\n",
        "from langchain.text_splitter import RecursiveCharacterTextSplitter #To splitt the text\n",
        "from langchain.embeddings.openai import OpenAIEmbeddings #Word2Vec Model to tokenizer the text\n",
        "from langchain.vectorstores import Chroma #The vectorial database\n",
        "from langchain.prompts import PromptTemplate\n",
        "from langchain.memory import ConversationBufferMemory\n",
        "from langchain_community.chat_models import ChatOpenAI\n",
        "from langchain.chains.question_answering import load_qa_chain\n",
        "import PyPDF2\n",
        "from PIL import Image\n",
        "import io\n",
        "from pdf2image import convert_from_path\n",
        "import cv2\n",
        "import os"
      ]
    },
    {
      "cell_type": "code",
      "source": [
        "import pandas as pd"
      ],
      "metadata": {
        "id": "4V3qnyBTDf6A"
      },
      "execution_count": 4,
      "outputs": []
    },
    {
      "cell_type": "markdown",
      "source": [
        "## DEFINIMOS FUNCIONES PARA EL EJERCICIO"
      ],
      "metadata": {
        "id": "8Lp0Q0wPAQAl"
      }
    },
    {
      "cell_type": "code",
      "source": [
        "from pathlib import Path\n",
        "\n",
        "# LangChain loaders\n",
        "from langchain_community.document_loaders import TextLoader\n",
        "# Preferimos PyMuPDF por velocidad/robustez; si no está, caemos a PyPDFLoader\n",
        "try:\n",
        "    from langchain_community.document_loaders import PyMuPDFLoader as _PDFLoader\n",
        "except Exception:\n",
        "    from langchain_community.document_loaders import PyPDFLoader as _PDFLoader\n",
        "\n",
        "# Para PDFs escaneados (OCR). Requiere: pip install \"unstructured[pdf]\" pytesseract\n",
        "# from langchain_community.document_loaders import UnstructuredPDFLoader\n",
        "\n",
        "def load_docs_any(root_path: str):\n",
        "    \"\"\"\n",
        "    Carga .txt y .pdf como lista de langchain.schema.Document.\n",
        "    - Para .pdf: devuelve un Document por página (loader por defecto en PyMuPDF/PyPDF).\n",
        "    - Para .txt: un solo Document por archivo.\n",
        "    \"\"\"\n",
        "    path = Path(root_path)\n",
        "    docs = []\n",
        "\n",
        "    def _load_one(file_path: Path):\n",
        "        if file_path.suffix.lower() == \".pdf\":\n",
        "            loader = _PDFLoader(str(file_path))      # Para OCR usar: UnstructuredPDFLoader(str(file_path))\n",
        "        elif file_path.suffix.lower() in [\".txt\", \".md\"]:\n",
        "            loader = TextLoader(str(file_path), encoding=\"utf-8\")\n",
        "        else:\n",
        "            return []  # ignora otras extensiones\n",
        "        return loader.load()\n",
        "\n",
        "    if path.is_dir():\n",
        "        # Busca recursivamente PDFs y TXTs\n",
        "        files = list(path.rglob(\"*.pdf\")) + list(path.rglob(\"*.txt\")) + list(path.rglob(\"*.md\"))\n",
        "        for f in files:\n",
        "            try:\n",
        "                docs.extend(_load_one(f))\n",
        "                print(f\"CARGADO: {f}\")\n",
        "            except Exception as e:\n",
        "                print(f\"ERROR en {f}: {e}\")\n",
        "    else:\n",
        "        # Ruta a un solo archivo\n",
        "        try:\n",
        "            docs.extend(_load_one(path))\n",
        "            print(f\"CARGADO: {path}\")\n",
        "        except Exception as e:\n",
        "            print(f\"ERROR en {path}: {e}\")\n",
        "\n",
        "    print(f\"TOTAL DOCUMENTOS: {len(docs)}\")\n",
        "    return docs\n",
        "\n",
        "# Si quieres mantener tu nombre:\n",
        "def txt_to_langchain(root_path):\n",
        "    # Ahora también acepta PDF :)\n",
        "    return load_docs_any(root_path)\n",
        "\n",
        "\n",
        "\n",
        "def get_vdb(concatenated_files):\n",
        "    #SPLITTING THE TEXTS:\n",
        "    print(\"EMPEZANDO A LLEVAR A UNA BASE DE DATOS VECTORIZADA\")\n",
        "    text_splitter = RecursiveCharacterTextSplitter(\n",
        "        chunk_size=1500, #Fragments of text of 1500 tokens\n",
        "        chunk_overlap=200, #For evey fragment that take the 200 last tokens of the last fragment\n",
        "        length_function=len\n",
        "        )\n",
        "    documents = text_splitter.split_documents(concatenated_files) #List with the metadata and the content splitt by fragments of 1500 tokens\n",
        "\n",
        "    print(\"OBTENIENDO LISTA DE DOCUMENTOS VECTORIZADA: \",documents)\n",
        "    #CARRY THE CONTENT OF THE DOCUMENTS TO A VECTORIAL DATABASE:\n",
        "    #------------------------------------------------------------\n",
        "    #------------------------------------------------------------\n",
        "    embeddings = OpenAIEmbeddings(model=\"text-embedding-ada-002\") #word2vec model of openAI\n",
        "    print(\"OBTENEMOS EL MODELO DE EMBEDDING\")\n",
        "    NOMBRE_INDICE_CHROMA = f\"vdb_{'6'}\" #Name of my vectorial database (Put the name that you want)\n",
        "\n",
        "    print(\"VECTORIZANDO\")\n",
        "    #Creating our vectorial database or vector store\n",
        "    vectorstore_chroma = Chroma.from_documents(\n",
        "        documents=documents, #Create the database with the list of the created documents (Every instance will be the embedding of every document)\n",
        "        embedding=embeddings, #, #Word2vec model to create our embeddings, always use the same.\n",
        "        persist_directory=NOMBRE_INDICE_CHROMA #Load my database in the indicated folder (If I close the section, I will keep storaged my vectorial databas in the folder called \"NOMBRE_INDICE_CHROMA\" )\n",
        "    )\n",
        "    print(\"VECTORIZADO\")\n",
        "    #loaded_\n",
        "    #loaded_database = Chroma(persist_directory=f\"AzureStorage/CerebroAuditoria/temporal_databases/vdb_{cont}\",embedding_function=embeddings)\n",
        "\n",
        "    return vectorstore_chroma"
      ],
      "metadata": {
        "id": "FechWh3wASDW"
      },
      "execution_count": 5,
      "outputs": []
    },
    {
      "cell_type": "markdown",
      "source": [
        "## CONFIGURAMOS LAS CREDENCIALES DE OPEN_AI"
      ],
      "metadata": {
        "id": "SQvHRNUxBhCX"
      }
    },
    {
      "cell_type": "code",
      "source": [
        "OPENAI_API_KEY = \"xxxxxx\"\n",
        "os.environ['OPENAI_API_KEY'] = OPENAI_API_KEY"
      ],
      "metadata": {
        "id": "p5Uer6rHBlg5"
      },
      "execution_count": 10,
      "outputs": []
    },
    {
      "cell_type": "markdown",
      "source": [
        "## APLICACIÓN PRINCIPAL"
      ],
      "metadata": {
        "id": "EIrsP0lA9_SV"
      }
    },
    {
      "cell_type": "markdown",
      "source": [
        "CREAMOS LA BASE DE DATOS Y LE SUBIMOS LA INFORMACIÓN BASE DE CADA TIPO DE FALLA O EVENTO"
      ],
      "metadata": {
        "id": "sx2JHohrBsCb"
      }
    },
    {
      "cell_type": "code",
      "source": [
        "path = \"/content/Curso-Corto-LLMs/3. Dashboard/Descripción.pdf\"\n",
        "codificate_pages = txt_to_langchain(path) ## LLEVAMOS LOS DOCUMENTOS AL FORMATOR REQUERIDO POR LANGCHAIN Y CHROMA"
      ],
      "metadata": {
        "colab": {
          "base_uri": "https://localhost:8080/"
        },
        "id": "fmxCcXLaCBuj",
        "outputId": "a9f48845-915e-4613-d061-406245ffe71a"
      },
      "execution_count": 11,
      "outputs": [
        {
          "output_type": "stream",
          "name": "stdout",
          "text": [
            "CARGADO: /content/Curso-Corto-LLMs/3. Dashboard/Descripción.pdf\n",
            "TOTAL DOCUMENTOS: 2\n"
          ]
        }
      ]
    },
    {
      "cell_type": "code",
      "source": [
        "codificate_pages"
      ],
      "metadata": {
        "colab": {
          "base_uri": "https://localhost:8080/"
        },
        "id": "DtONDk50CZjf",
        "outputId": "fda6f2d6-e01c-4b0e-b7c2-927e7561d5c6"
      },
      "execution_count": 12,
      "outputs": [
        {
          "output_type": "execute_result",
          "data": {
            "text/plain": [
              "[Document(metadata={'producer': 'Microsoft® Word 2019', 'creator': 'Microsoft® Word 2019', 'creationdate': '2025-09-18T20:57:17-05:00', 'source': '/content/Curso-Corto-LLMs/3. Dashboard/Descripción.pdf', 'file_path': '/content/Curso-Corto-LLMs/3. Dashboard/Descripción.pdf', 'total_pages': 2, 'format': 'PDF 1.7', 'title': '', 'author': 'UNALMAN', 'subject': '', 'keywords': '', 'moddate': '2025-09-18T20:57:17-05:00', 'trapped': '', 'modDate': \"D:20250918205717-05'00'\", 'creationDate': \"D:20250918205717-05'00'\", 'page': 0}, page_content='Las fallas en redes de distribución de energía eléctrica deben ser gestionadas de acuerdo \\ncon la regulación vigente, principalmente la Resolución CREG 070 de 1998, que \\nestablecen estándares técnicos para garantizar la calidad del servicio. \\n \\nA continuación, se describen las fallas indicadas en el contexto técnico y operativo: \\n \\n1. Arco reventado o suelto \\n \\nDescripción: Un arco eléctrico ocurre cuando hay una descarga de corriente entre dos \\nconductores o un conductor y tierra, generando altas temperaturas. Puede ser causado \\npor conexiones deficientes, aisladores dañados o sobrecargas. \\nImpacto: Riesgo de incendios y afectación a la continuidad del servicio. \\n2. Puente reventado o suelto \\n \\nDescripción: Un puente es un conductor que conecta dos puntos en el sistema eléctrico. \\nSi está reventado o suelto, puede interrumpir el suministro eléctrico en el circuito afectado. \\nImpacto: Interrupciones localizadas y posible daño a equipos por desequilibrios de fase. \\n3. Colilla reventada o suelta \\n \\nDescripción: La colilla es la conexión final de un conductor al equipo (como \\ntransformadores o fusibles). Una colilla suelta o reventada puede generar puntos calientes \\ny fallas de continuidad. \\nImpacto: Calentamiento excesivo y fallas en el suministro eléctrico. \\n4. Bajante \\n \\nDescripción: Conductor que conecta la red aérea con un equipo o red subterránea. Las \\nfallas pueden incluir cortes, contacto con estructuras o su desconexión. \\nImpacto: Pérdida de suministro parcial o total en la red asociada. \\n5. Fase reventada \\n \\nDescripción: Ruptura de uno de los conductores activos (fases) de la red, generalmente \\npor eventos externos (viento, caída de árboles) o desgaste. \\nImpacto: Interrupciones monofásicas o trifásicas, con riesgo de desequilibrios y daño a \\nequipos conectados. \\n6. Neutro reventado \\n \\nDescripción: El neutro es esencial para la estabilidad y seguridad del sistema. Su ruptura \\npuede causar diferencias de potencial peligrosas. \\nImpacto: Sobretensiones en equipos, pérdida de referencia de tierra y riesgos eléctricos. \\n7. Descarga \\n \\nDescripción: Descarga eléctrica que ocurre generalmente por sobrevoltajes inducidos por \\nrayos o fallas en la protección contra sobretensiones. \\nImpacto: Daño a equipos de la red y potencial interrupción del suministro. \\n8. Trueno \\n \\nDescripción: Ruido generado por un arco eléctrico o descarga atmosférica cercana, a \\nmenudo asociado con condiciones climáticas extremas. \\nImpacto: Puede indicar riesgo de fallas mayores en aisladores o conexiones. \\n9. Flameo'),\n",
              " Document(metadata={'producer': 'Microsoft® Word 2019', 'creator': 'Microsoft® Word 2019', 'creationdate': '2025-09-18T20:57:17-05:00', 'source': '/content/Curso-Corto-LLMs/3. Dashboard/Descripción.pdf', 'file_path': '/content/Curso-Corto-LLMs/3. Dashboard/Descripción.pdf', 'total_pages': 2, 'format': 'PDF 1.7', 'title': '', 'author': 'UNALMAN', 'subject': '', 'keywords': '', 'moddate': '2025-09-18T20:57:17-05:00', 'trapped': '', 'modDate': \"D:20250918205717-05'00'\", 'creationDate': \"D:20250918205717-05'00'\", 'page': 1}, page_content='Descripción: Pequeñas llamas o destellos en puntos de conexión o aisladores, a menudo \\ncausados por mala conexión, contaminación o deterioro. \\nImpacto: Daño progresivo al equipo y posible interrupción del servicio. \\n10. Aislador flameado \\n \\nDescripción: Fenómeno de flameo o descarga en aisladores debido a contaminación, \\nfisuras, humedad o sobrecargas. \\nImpacto: Pérdida de aislamiento, cortocircuitos y posibles apagones. \\n11. Fase caída \\n \\nDescripción: Conductores de fase que se desprenden y caen, a menudo por eventos \\nclimáticos o accidentes. \\nImpacto: Interrupciones severas y alto riesgo para la seguridad pública. \\n12. Fusible \\n \\nDescripción: Fallo en un fusible que opera correctamente para proteger un circuito, o por \\nsobrecargas continuas que lo hacen actuar frecuentemente. \\nImpacto: Interrupción temporal de suministro; requiere reemplazo. \\n13. Disparo \\n \\nDescripción: Activación de un dispositivo de protección, como un interruptor, debido a \\nsobrecargas, cortocircuitos o fallas transitorias. \\nImpacto: Interrupción inmediata del servicio para evitar daños mayores. \\n14. Protección \\n \\nDescripción: Fallas en dispositivos de protección (relés, interruptores, pararrayos) que no \\noperan correctamente o actúan fuera de su configuración. \\nImpacto: Riesgo de daños mayores al sistema y usuarios finales.')]"
            ]
          },
          "metadata": {},
          "execution_count": 12
        }
      ]
    },
    {
      "cell_type": "markdown",
      "source": [
        "CREAMOS LA BASE DE DATOS VECTORIZADA"
      ],
      "metadata": {
        "id": "f5ky_lsQCiPL"
      }
    },
    {
      "cell_type": "code",
      "source": [
        "chroma_db = get_vdb(codificate_pages)"
      ],
      "metadata": {
        "colab": {
          "base_uri": "https://localhost:8080/"
        },
        "id": "P0Dx64N1-A8k",
        "outputId": "4c0ded2e-ca21-4cba-b76b-a2e8f8bd27a3"
      },
      "execution_count": 13,
      "outputs": [
        {
          "output_type": "stream",
          "name": "stdout",
          "text": [
            "EMPEZANDO A LLEVAR A UNA BASE DE DATOS VECTORIZADA\n",
            "OBTENIENDO LISTA DE DOCUMENTOS VECTORIZADA:  [Document(metadata={'producer': 'Microsoft® Word 2019', 'creator': 'Microsoft® Word 2019', 'creationdate': '2025-09-18T20:57:17-05:00', 'source': '/content/Curso-Corto-LLMs/3. Dashboard/Descripción.pdf', 'file_path': '/content/Curso-Corto-LLMs/3. Dashboard/Descripción.pdf', 'total_pages': 2, 'format': 'PDF 1.7', 'title': '', 'author': 'UNALMAN', 'subject': '', 'keywords': '', 'moddate': '2025-09-18T20:57:17-05:00', 'trapped': '', 'modDate': \"D:20250918205717-05'00'\", 'creationDate': \"D:20250918205717-05'00'\", 'page': 0}, page_content='Las fallas en redes de distribución de energía eléctrica deben ser gestionadas de acuerdo \\ncon la regulación vigente, principalmente la Resolución CREG 070 de 1998, que \\nestablecen estándares técnicos para garantizar la calidad del servicio. \\n \\nA continuación, se describen las fallas indicadas en el contexto técnico y operativo: \\n \\n1. Arco reventado o suelto \\n \\nDescripción: Un arco eléctrico ocurre cuando hay una descarga de corriente entre dos \\nconductores o un conductor y tierra, generando altas temperaturas. Puede ser causado \\npor conexiones deficientes, aisladores dañados o sobrecargas. \\nImpacto: Riesgo de incendios y afectación a la continuidad del servicio. \\n2. Puente reventado o suelto \\n \\nDescripción: Un puente es un conductor que conecta dos puntos en el sistema eléctrico. \\nSi está reventado o suelto, puede interrumpir el suministro eléctrico en el circuito afectado. \\nImpacto: Interrupciones localizadas y posible daño a equipos por desequilibrios de fase. \\n3. Colilla reventada o suelta \\n \\nDescripción: La colilla es la conexión final de un conductor al equipo (como \\ntransformadores o fusibles). Una colilla suelta o reventada puede generar puntos calientes \\ny fallas de continuidad. \\nImpacto: Calentamiento excesivo y fallas en el suministro eléctrico. \\n4. Bajante \\n \\nDescripción: Conductor que conecta la red aérea con un equipo o red subterránea. Las \\nfallas pueden incluir cortes, contacto con estructuras o su desconexión.'), Document(metadata={'producer': 'Microsoft® Word 2019', 'creator': 'Microsoft® Word 2019', 'creationdate': '2025-09-18T20:57:17-05:00', 'source': '/content/Curso-Corto-LLMs/3. Dashboard/Descripción.pdf', 'file_path': '/content/Curso-Corto-LLMs/3. Dashboard/Descripción.pdf', 'total_pages': 2, 'format': 'PDF 1.7', 'title': '', 'author': 'UNALMAN', 'subject': '', 'keywords': '', 'moddate': '2025-09-18T20:57:17-05:00', 'trapped': '', 'modDate': \"D:20250918205717-05'00'\", 'creationDate': \"D:20250918205717-05'00'\", 'page': 0}, page_content='4. Bajante \\n \\nDescripción: Conductor que conecta la red aérea con un equipo o red subterránea. Las \\nfallas pueden incluir cortes, contacto con estructuras o su desconexión. \\nImpacto: Pérdida de suministro parcial o total en la red asociada. \\n5. Fase reventada \\n \\nDescripción: Ruptura de uno de los conductores activos (fases) de la red, generalmente \\npor eventos externos (viento, caída de árboles) o desgaste. \\nImpacto: Interrupciones monofásicas o trifásicas, con riesgo de desequilibrios y daño a \\nequipos conectados. \\n6. Neutro reventado \\n \\nDescripción: El neutro es esencial para la estabilidad y seguridad del sistema. Su ruptura \\npuede causar diferencias de potencial peligrosas. \\nImpacto: Sobretensiones en equipos, pérdida de referencia de tierra y riesgos eléctricos. \\n7. Descarga \\n \\nDescripción: Descarga eléctrica que ocurre generalmente por sobrevoltajes inducidos por \\nrayos o fallas en la protección contra sobretensiones. \\nImpacto: Daño a equipos de la red y potencial interrupción del suministro. \\n8. Trueno \\n \\nDescripción: Ruido generado por un arco eléctrico o descarga atmosférica cercana, a \\nmenudo asociado con condiciones climáticas extremas. \\nImpacto: Puede indicar riesgo de fallas mayores en aisladores o conexiones. \\n9. Flameo'), Document(metadata={'producer': 'Microsoft® Word 2019', 'creator': 'Microsoft® Word 2019', 'creationdate': '2025-09-18T20:57:17-05:00', 'source': '/content/Curso-Corto-LLMs/3. Dashboard/Descripción.pdf', 'file_path': '/content/Curso-Corto-LLMs/3. Dashboard/Descripción.pdf', 'total_pages': 2, 'format': 'PDF 1.7', 'title': '', 'author': 'UNALMAN', 'subject': '', 'keywords': '', 'moddate': '2025-09-18T20:57:17-05:00', 'trapped': '', 'modDate': \"D:20250918205717-05'00'\", 'creationDate': \"D:20250918205717-05'00'\", 'page': 1}, page_content='Descripción: Pequeñas llamas o destellos en puntos de conexión o aisladores, a menudo \\ncausados por mala conexión, contaminación o deterioro. \\nImpacto: Daño progresivo al equipo y posible interrupción del servicio. \\n10. Aislador flameado \\n \\nDescripción: Fenómeno de flameo o descarga en aisladores debido a contaminación, \\nfisuras, humedad o sobrecargas. \\nImpacto: Pérdida de aislamiento, cortocircuitos y posibles apagones. \\n11. Fase caída \\n \\nDescripción: Conductores de fase que se desprenden y caen, a menudo por eventos \\nclimáticos o accidentes. \\nImpacto: Interrupciones severas y alto riesgo para la seguridad pública. \\n12. Fusible \\n \\nDescripción: Fallo en un fusible que opera correctamente para proteger un circuito, o por \\nsobrecargas continuas que lo hacen actuar frecuentemente. \\nImpacto: Interrupción temporal de suministro; requiere reemplazo. \\n13. Disparo \\n \\nDescripción: Activación de un dispositivo de protección, como un interruptor, debido a \\nsobrecargas, cortocircuitos o fallas transitorias. \\nImpacto: Interrupción inmediata del servicio para evitar daños mayores. \\n14. Protección \\n \\nDescripción: Fallas en dispositivos de protección (relés, interruptores, pararrayos) que no \\noperan correctamente o actúan fuera de su configuración. \\nImpacto: Riesgo de daños mayores al sistema y usuarios finales.')]\n",
            "OBTENEMOS EL MODELO DE EMBEDDING\n",
            "VECTORIZANDO\n",
            "VECTORIZADO\n"
          ]
        }
      ]
    },
    {
      "cell_type": "markdown",
      "source": [
        "## LEEMOS LA BASE DE DATOS DE COMENTARIOS"
      ],
      "metadata": {
        "id": "QmJD4HJgDUof"
      }
    },
    {
      "cell_type": "code",
      "source": [
        "eventos = pd.read_excel('/content/Curso-Corto-LLMs/3. Dashboard/Eventos_1_Semestre2024.xlsx')"
      ],
      "metadata": {
        "id": "2l3aSxli-PuP"
      },
      "execution_count": 14,
      "outputs": []
    },
    {
      "cell_type": "code",
      "source": [
        "eventos.head(4)"
      ],
      "metadata": {
        "colab": {
          "base_uri": "https://localhost:8080/",
          "height": 296
        },
        "id": "2wHw1VwD-Y7M",
        "outputId": "1cbb9c79-9ad6-43e9-ae51-1b8e8cc7accd"
      },
      "execution_count": 15,
      "outputs": [
        {
          "output_type": "execute_result",
          "data": {
            "text/plain": [
              "    EVENTO  ODT_BIT  CIRCUITO EQUIPO_OPE ELEM_OPERADO     TIPO_CAUSA  \\\n",
              "0  8258065   935773  AZA30L12   PSO30L13           33  No programada   \n",
              "1  8261543    38887  IRR30L14   IRR30L14           33  No programada   \n",
              "2  8259334   936128  ROS30T21   ROS30T21          TFP  No programada   \n",
              "3  8261569    38889  IRR40L18   IRR40L18          115      Excluible   \n",
              "\n",
              "                                           CAUSA_SGO              INICIO  \\\n",
              "0  Falla en redes de distribución y elementos aso... 2024-05-19 13:52:16   \n",
              "1                           Condiciones atmosféricas 2024-05-28 00:55:26   \n",
              "2         Afectación por fallas en redes de otros OR 2024-05-22 16:45:14   \n",
              "3  Apertura en redes del SDL por causa de equipos... 2024-05-28 01:19:57   \n",
              "\n",
              "                  FIN   HRS  #TRAFOS  #USUARIOS  \\\n",
              "0 2024-05-19 13:52:26  0.00     1637      51133   \n",
              "1 2024-05-28 00:56:29  0.02     2150      47288   \n",
              "2 2024-05-22 16:47:30  0.04      663      32473   \n",
              "3 2024-05-28 01:21:35  0.03      969      31360   \n",
              "\n",
              "                                        EJECUTANDOSE  \\\n",
              "0  09:07: CARLOS SIERRA INFORMA QUE REPARARON ARC...   \n",
              "1                                                  -   \n",
              "2  12:00 SE REALIZA REPARACION DE LA LINEA PRIMAR...   \n",
              "3                                                  -   \n",
              "\n",
              "                                           EJECUTADA  \n",
              "0  \\nREPARAN ARCO VOLADO EN EL B14023 Y CAMBIAN 2...  \n",
              "1          Disparo circuitos 33Kv, Normal por ensayo  \n",
              "2  \\n12:00 SE REALIZA REPARACION DE LA LINEA PRIM...  \n",
              "3  01:19 a 01:21 Disparo de la bahia de linea 115...  "
            ],
            "text/html": [
              "\n",
              "  <div id=\"df-34d81916-bc57-4fcc-9a4d-dba6062cf26f\" class=\"colab-df-container\">\n",
              "    <div>\n",
              "<style scoped>\n",
              "    .dataframe tbody tr th:only-of-type {\n",
              "        vertical-align: middle;\n",
              "    }\n",
              "\n",
              "    .dataframe tbody tr th {\n",
              "        vertical-align: top;\n",
              "    }\n",
              "\n",
              "    .dataframe thead th {\n",
              "        text-align: right;\n",
              "    }\n",
              "</style>\n",
              "<table border=\"1\" class=\"dataframe\">\n",
              "  <thead>\n",
              "    <tr style=\"text-align: right;\">\n",
              "      <th></th>\n",
              "      <th>EVENTO</th>\n",
              "      <th>ODT_BIT</th>\n",
              "      <th>CIRCUITO</th>\n",
              "      <th>EQUIPO_OPE</th>\n",
              "      <th>ELEM_OPERADO</th>\n",
              "      <th>TIPO_CAUSA</th>\n",
              "      <th>CAUSA_SGO</th>\n",
              "      <th>INICIO</th>\n",
              "      <th>FIN</th>\n",
              "      <th>HRS</th>\n",
              "      <th>#TRAFOS</th>\n",
              "      <th>#USUARIOS</th>\n",
              "      <th>EJECUTANDOSE</th>\n",
              "      <th>EJECUTADA</th>\n",
              "    </tr>\n",
              "  </thead>\n",
              "  <tbody>\n",
              "    <tr>\n",
              "      <th>0</th>\n",
              "      <td>8258065</td>\n",
              "      <td>935773</td>\n",
              "      <td>AZA30L12</td>\n",
              "      <td>PSO30L13</td>\n",
              "      <td>33</td>\n",
              "      <td>No programada</td>\n",
              "      <td>Falla en redes de distribución y elementos aso...</td>\n",
              "      <td>2024-05-19 13:52:16</td>\n",
              "      <td>2024-05-19 13:52:26</td>\n",
              "      <td>0.00</td>\n",
              "      <td>1637</td>\n",
              "      <td>51133</td>\n",
              "      <td>09:07: CARLOS SIERRA INFORMA QUE REPARARON ARC...</td>\n",
              "      <td>\\nREPARAN ARCO VOLADO EN EL B14023 Y CAMBIAN 2...</td>\n",
              "    </tr>\n",
              "    <tr>\n",
              "      <th>1</th>\n",
              "      <td>8261543</td>\n",
              "      <td>38887</td>\n",
              "      <td>IRR30L14</td>\n",
              "      <td>IRR30L14</td>\n",
              "      <td>33</td>\n",
              "      <td>No programada</td>\n",
              "      <td>Condiciones atmosféricas</td>\n",
              "      <td>2024-05-28 00:55:26</td>\n",
              "      <td>2024-05-28 00:56:29</td>\n",
              "      <td>0.02</td>\n",
              "      <td>2150</td>\n",
              "      <td>47288</td>\n",
              "      <td>-</td>\n",
              "      <td>Disparo circuitos 33Kv, Normal por ensayo</td>\n",
              "    </tr>\n",
              "    <tr>\n",
              "      <th>2</th>\n",
              "      <td>8259334</td>\n",
              "      <td>936128</td>\n",
              "      <td>ROS30T21</td>\n",
              "      <td>ROS30T21</td>\n",
              "      <td>TFP</td>\n",
              "      <td>No programada</td>\n",
              "      <td>Afectación por fallas en redes de otros OR</td>\n",
              "      <td>2024-05-22 16:45:14</td>\n",
              "      <td>2024-05-22 16:47:30</td>\n",
              "      <td>0.04</td>\n",
              "      <td>663</td>\n",
              "      <td>32473</td>\n",
              "      <td>12:00 SE REALIZA REPARACION DE LA LINEA PRIMAR...</td>\n",
              "      <td>\\n12:00 SE REALIZA REPARACION DE LA LINEA PRIM...</td>\n",
              "    </tr>\n",
              "    <tr>\n",
              "      <th>3</th>\n",
              "      <td>8261569</td>\n",
              "      <td>38889</td>\n",
              "      <td>IRR40L18</td>\n",
              "      <td>IRR40L18</td>\n",
              "      <td>115</td>\n",
              "      <td>Excluible</td>\n",
              "      <td>Apertura en redes del SDL por causa de equipos...</td>\n",
              "      <td>2024-05-28 01:19:57</td>\n",
              "      <td>2024-05-28 01:21:35</td>\n",
              "      <td>0.03</td>\n",
              "      <td>969</td>\n",
              "      <td>31360</td>\n",
              "      <td>-</td>\n",
              "      <td>01:19 a 01:21 Disparo de la bahia de linea 115...</td>\n",
              "    </tr>\n",
              "  </tbody>\n",
              "</table>\n",
              "</div>\n",
              "    <div class=\"colab-df-buttons\">\n",
              "\n",
              "  <div class=\"colab-df-container\">\n",
              "    <button class=\"colab-df-convert\" onclick=\"convertToInteractive('df-34d81916-bc57-4fcc-9a4d-dba6062cf26f')\"\n",
              "            title=\"Convert this dataframe to an interactive table.\"\n",
              "            style=\"display:none;\">\n",
              "\n",
              "  <svg xmlns=\"http://www.w3.org/2000/svg\" height=\"24px\" viewBox=\"0 -960 960 960\">\n",
              "    <path d=\"M120-120v-720h720v720H120Zm60-500h600v-160H180v160Zm220 220h160v-160H400v160Zm0 220h160v-160H400v160ZM180-400h160v-160H180v160Zm440 0h160v-160H620v160ZM180-180h160v-160H180v160Zm440 0h160v-160H620v160Z\"/>\n",
              "  </svg>\n",
              "    </button>\n",
              "\n",
              "  <style>\n",
              "    .colab-df-container {\n",
              "      display:flex;\n",
              "      gap: 12px;\n",
              "    }\n",
              "\n",
              "    .colab-df-convert {\n",
              "      background-color: #E8F0FE;\n",
              "      border: none;\n",
              "      border-radius: 50%;\n",
              "      cursor: pointer;\n",
              "      display: none;\n",
              "      fill: #1967D2;\n",
              "      height: 32px;\n",
              "      padding: 0 0 0 0;\n",
              "      width: 32px;\n",
              "    }\n",
              "\n",
              "    .colab-df-convert:hover {\n",
              "      background-color: #E2EBFA;\n",
              "      box-shadow: 0px 1px 2px rgba(60, 64, 67, 0.3), 0px 1px 3px 1px rgba(60, 64, 67, 0.15);\n",
              "      fill: #174EA6;\n",
              "    }\n",
              "\n",
              "    .colab-df-buttons div {\n",
              "      margin-bottom: 4px;\n",
              "    }\n",
              "\n",
              "    [theme=dark] .colab-df-convert {\n",
              "      background-color: #3B4455;\n",
              "      fill: #D2E3FC;\n",
              "    }\n",
              "\n",
              "    [theme=dark] .colab-df-convert:hover {\n",
              "      background-color: #434B5C;\n",
              "      box-shadow: 0px 1px 3px 1px rgba(0, 0, 0, 0.15);\n",
              "      filter: drop-shadow(0px 1px 2px rgba(0, 0, 0, 0.3));\n",
              "      fill: #FFFFFF;\n",
              "    }\n",
              "  </style>\n",
              "\n",
              "    <script>\n",
              "      const buttonEl =\n",
              "        document.querySelector('#df-34d81916-bc57-4fcc-9a4d-dba6062cf26f button.colab-df-convert');\n",
              "      buttonEl.style.display =\n",
              "        google.colab.kernel.accessAllowed ? 'block' : 'none';\n",
              "\n",
              "      async function convertToInteractive(key) {\n",
              "        const element = document.querySelector('#df-34d81916-bc57-4fcc-9a4d-dba6062cf26f');\n",
              "        const dataTable =\n",
              "          await google.colab.kernel.invokeFunction('convertToInteractive',\n",
              "                                                    [key], {});\n",
              "        if (!dataTable) return;\n",
              "\n",
              "        const docLinkHtml = 'Like what you see? Visit the ' +\n",
              "          '<a target=\"_blank\" href=https://colab.research.google.com/notebooks/data_table.ipynb>data table notebook</a>'\n",
              "          + ' to learn more about interactive tables.';\n",
              "        element.innerHTML = '';\n",
              "        dataTable['output_type'] = 'display_data';\n",
              "        await google.colab.output.renderOutput(dataTable, element);\n",
              "        const docLink = document.createElement('div');\n",
              "        docLink.innerHTML = docLinkHtml;\n",
              "        element.appendChild(docLink);\n",
              "      }\n",
              "    </script>\n",
              "  </div>\n",
              "\n",
              "\n",
              "    <div id=\"df-6c57faaf-93fa-4d75-8d9e-ccbab1cd8394\">\n",
              "      <button class=\"colab-df-quickchart\" onclick=\"quickchart('df-6c57faaf-93fa-4d75-8d9e-ccbab1cd8394')\"\n",
              "                title=\"Suggest charts\"\n",
              "                style=\"display:none;\">\n",
              "\n",
              "<svg xmlns=\"http://www.w3.org/2000/svg\" height=\"24px\"viewBox=\"0 0 24 24\"\n",
              "     width=\"24px\">\n",
              "    <g>\n",
              "        <path d=\"M19 3H5c-1.1 0-2 .9-2 2v14c0 1.1.9 2 2 2h14c1.1 0 2-.9 2-2V5c0-1.1-.9-2-2-2zM9 17H7v-7h2v7zm4 0h-2V7h2v10zm4 0h-2v-4h2v4z\"/>\n",
              "    </g>\n",
              "</svg>\n",
              "      </button>\n",
              "\n",
              "<style>\n",
              "  .colab-df-quickchart {\n",
              "      --bg-color: #E8F0FE;\n",
              "      --fill-color: #1967D2;\n",
              "      --hover-bg-color: #E2EBFA;\n",
              "      --hover-fill-color: #174EA6;\n",
              "      --disabled-fill-color: #AAA;\n",
              "      --disabled-bg-color: #DDD;\n",
              "  }\n",
              "\n",
              "  [theme=dark] .colab-df-quickchart {\n",
              "      --bg-color: #3B4455;\n",
              "      --fill-color: #D2E3FC;\n",
              "      --hover-bg-color: #434B5C;\n",
              "      --hover-fill-color: #FFFFFF;\n",
              "      --disabled-bg-color: #3B4455;\n",
              "      --disabled-fill-color: #666;\n",
              "  }\n",
              "\n",
              "  .colab-df-quickchart {\n",
              "    background-color: var(--bg-color);\n",
              "    border: none;\n",
              "    border-radius: 50%;\n",
              "    cursor: pointer;\n",
              "    display: none;\n",
              "    fill: var(--fill-color);\n",
              "    height: 32px;\n",
              "    padding: 0;\n",
              "    width: 32px;\n",
              "  }\n",
              "\n",
              "  .colab-df-quickchart:hover {\n",
              "    background-color: var(--hover-bg-color);\n",
              "    box-shadow: 0 1px 2px rgba(60, 64, 67, 0.3), 0 1px 3px 1px rgba(60, 64, 67, 0.15);\n",
              "    fill: var(--button-hover-fill-color);\n",
              "  }\n",
              "\n",
              "  .colab-df-quickchart-complete:disabled,\n",
              "  .colab-df-quickchart-complete:disabled:hover {\n",
              "    background-color: var(--disabled-bg-color);\n",
              "    fill: var(--disabled-fill-color);\n",
              "    box-shadow: none;\n",
              "  }\n",
              "\n",
              "  .colab-df-spinner {\n",
              "    border: 2px solid var(--fill-color);\n",
              "    border-color: transparent;\n",
              "    border-bottom-color: var(--fill-color);\n",
              "    animation:\n",
              "      spin 1s steps(1) infinite;\n",
              "  }\n",
              "\n",
              "  @keyframes spin {\n",
              "    0% {\n",
              "      border-color: transparent;\n",
              "      border-bottom-color: var(--fill-color);\n",
              "      border-left-color: var(--fill-color);\n",
              "    }\n",
              "    20% {\n",
              "      border-color: transparent;\n",
              "      border-left-color: var(--fill-color);\n",
              "      border-top-color: var(--fill-color);\n",
              "    }\n",
              "    30% {\n",
              "      border-color: transparent;\n",
              "      border-left-color: var(--fill-color);\n",
              "      border-top-color: var(--fill-color);\n",
              "      border-right-color: var(--fill-color);\n",
              "    }\n",
              "    40% {\n",
              "      border-color: transparent;\n",
              "      border-right-color: var(--fill-color);\n",
              "      border-top-color: var(--fill-color);\n",
              "    }\n",
              "    60% {\n",
              "      border-color: transparent;\n",
              "      border-right-color: var(--fill-color);\n",
              "    }\n",
              "    80% {\n",
              "      border-color: transparent;\n",
              "      border-right-color: var(--fill-color);\n",
              "      border-bottom-color: var(--fill-color);\n",
              "    }\n",
              "    90% {\n",
              "      border-color: transparent;\n",
              "      border-bottom-color: var(--fill-color);\n",
              "    }\n",
              "  }\n",
              "</style>\n",
              "\n",
              "      <script>\n",
              "        async function quickchart(key) {\n",
              "          const quickchartButtonEl =\n",
              "            document.querySelector('#' + key + ' button');\n",
              "          quickchartButtonEl.disabled = true;  // To prevent multiple clicks.\n",
              "          quickchartButtonEl.classList.add('colab-df-spinner');\n",
              "          try {\n",
              "            const charts = await google.colab.kernel.invokeFunction(\n",
              "                'suggestCharts', [key], {});\n",
              "          } catch (error) {\n",
              "            console.error('Error during call to suggestCharts:', error);\n",
              "          }\n",
              "          quickchartButtonEl.classList.remove('colab-df-spinner');\n",
              "          quickchartButtonEl.classList.add('colab-df-quickchart-complete');\n",
              "        }\n",
              "        (() => {\n",
              "          let quickchartButtonEl =\n",
              "            document.querySelector('#df-6c57faaf-93fa-4d75-8d9e-ccbab1cd8394 button');\n",
              "          quickchartButtonEl.style.display =\n",
              "            google.colab.kernel.accessAllowed ? 'block' : 'none';\n",
              "        })();\n",
              "      </script>\n",
              "    </div>\n",
              "\n",
              "    </div>\n",
              "  </div>\n"
            ],
            "application/vnd.google.colaboratory.intrinsic+json": {
              "type": "dataframe",
              "variable_name": "eventos",
              "summary": "{\n  \"name\": \"eventos\",\n  \"rows\": 22350,\n  \"fields\": [\n    {\n      \"column\": \"EVENTO\",\n      \"properties\": {\n        \"dtype\": \"number\",\n        \"std\": 16697,\n        \"min\": 8215207,\n        \"max\": 8272946,\n        \"num_unique_values\": 20214,\n        \"samples\": [\n          8250638,\n          8237798,\n          8256176\n        ],\n        \"semantic_type\": \"\",\n        \"description\": \"\"\n      }\n    },\n    {\n      \"column\": \"ODT_BIT\",\n      \"properties\": {\n        \"dtype\": \"number\",\n        \"std\": 333738,\n        \"min\": 37896,\n        \"max\": 940190,\n        \"num_unique_values\": 10963,\n        \"samples\": [\n          939606,\n          940187,\n          929608\n        ],\n        \"semantic_type\": \"\",\n        \"description\": \"\"\n      }\n    },\n    {\n      \"column\": \"CIRCUITO\",\n      \"properties\": {\n        \"dtype\": \"category\",\n        \"num_unique_values\": 315,\n        \"samples\": [\n          \"BEL23L15\",\n          \"CAM23L12\",\n          \"MTT23L12\"\n        ],\n        \"semantic_type\": \"\",\n        \"description\": \"\"\n      }\n    },\n    {\n      \"column\": \"EQUIPO_OPE\",\n      \"properties\": {\n        \"dtype\": \"category\",\n        \"num_unique_values\": 7641,\n        \"samples\": [\n          \"C22741\",\n          \"E42312\",\n          \"N49222\"\n        ],\n        \"semantic_type\": \"\",\n        \"description\": \"\"\n      }\n    },\n    {\n      \"column\": \"ELEM_OPERADO\",\n      \"properties\": {\n        \"dtype\": \"category\",\n        \"num_unique_values\": 5,\n        \"samples\": [\n          \"TFP\",\n          \"TFD\",\n          115\n        ],\n        \"semantic_type\": \"\",\n        \"description\": \"\"\n      }\n    },\n    {\n      \"column\": \"TIPO_CAUSA\",\n      \"properties\": {\n        \"dtype\": \"category\",\n        \"num_unique_values\": 3,\n        \"samples\": [\n          \"No programada\",\n          \"Excluible\",\n          \"Programada\"\n        ],\n        \"semantic_type\": \"\",\n        \"description\": \"\"\n      }\n    },\n    {\n      \"column\": \"CAUSA_SGO\",\n      \"properties\": {\n        \"dtype\": \"category\",\n        \"num_unique_values\": 31,\n        \"samples\": [\n          \"Falla en la coordinaci\\u00f3n de protecciones\",\n          \"Animales sobre las redes del SDL\",\n          \"Actos de terrorismo\"\n        ],\n        \"semantic_type\": \"\",\n        \"description\": \"\"\n      }\n    },\n    {\n      \"column\": \"INICIO\",\n      \"properties\": {\n        \"dtype\": \"date\",\n        \"min\": \"2024-01-01 00:00:00\",\n        \"max\": \"2024-06-30 23:38:56\",\n        \"num_unique_values\": 19696,\n        \"samples\": [\n          \"2024-06-25 08:35:00\",\n          \"2024-04-27 12:29:34\",\n          \"2024-02-27 17:18:47\"\n        ],\n        \"semantic_type\": \"\",\n        \"description\": \"\"\n      }\n    },\n    {\n      \"column\": \"FIN\",\n      \"properties\": {\n        \"dtype\": \"date\",\n        \"min\": \"2024-01-01 00:01:00\",\n        \"max\": \"2024-06-30 23:59:59\",\n        \"num_unique_values\": 21272,\n        \"samples\": [\n          \"2024-02-09 12:30:53\",\n          \"2024-06-18 00:38:25\",\n          \"2024-05-23 09:35:31\"\n        ],\n        \"semantic_type\": \"\",\n        \"description\": \"\"\n      }\n    },\n    {\n      \"column\": \"HRS\",\n      \"properties\": {\n        \"dtype\": \"number\",\n        \"std\": 44.55894932531393,\n        \"min\": 0.0,\n        \"max\": 744.0,\n        \"num_unique_values\": 2649,\n        \"samples\": [\n          15.44,\n          27.42,\n          8.41\n        ],\n        \"semantic_type\": \"\",\n        \"description\": \"\"\n      }\n    },\n    {\n      \"column\": \"#TRAFOS\",\n      \"properties\": {\n        \"dtype\": \"number\",\n        \"std\": 68,\n        \"min\": 1,\n        \"max\": 2150,\n        \"num_unique_values\": 357,\n        \"samples\": [\n          86,\n          197,\n          232\n        ],\n        \"semantic_type\": \"\",\n        \"description\": \"\"\n      }\n    },\n    {\n      \"column\": \"#USUARIOS\",\n      \"properties\": {\n        \"dtype\": \"number\",\n        \"std\": 2131,\n        \"min\": 0,\n        \"max\": 114221,\n        \"num_unique_values\": 2107,\n        \"samples\": [\n          2154,\n          477,\n          5650\n        ],\n        \"semantic_type\": \"\",\n        \"description\": \"\"\n      }\n    },\n    {\n      \"column\": \"EJECUTANDOSE\",\n      \"properties\": {\n        \"dtype\": \"category\",\n        \"num_unique_values\": 1491,\n        \"samples\": [\n          \"En la Secci\\u00f3n W33148 electr\\u00f3nica hay  fases operadas, se coordina con Uriel Orlay Florez para apoyar al t\\u00e9cnico y abrir arcos en el W33159 y luego normalizar esta secci\\u00f3n electr\\u00f3nica<br>Usuario / Fecha: ruben dario velasquez lopez  / 2024-06-23 15:07:41<br><br>En la SW W33107 se cambian 2 fusibles de 6A tipo t (nodo informado W33106).\\nqueda servicio normal<br>Usuario / Fecha: ruben dario velasquez lopez  / 2024-06-23 15:06:27<br><br>Reporta e t?cnico l?nea primaria reventada entre los nodos W33159 al W33163 pendiente gestionar reparaci?n con grupo.<br>Usuario / Fecha: ruben dario velasquez lopez  / 2024-06-23 13:38:30<br><br>\",\n          \"SE ABRE EL CTO IRR23L13 (TAPIA) DEBIDO A QUE SE PRESENTA UNA SITUACION DE RIESGO PARA LA VIDA HUMANA SEGUN IDENTIFICADO POR EL GRUPO DE PERDIDAS CON ACOMPA\\u00d1AMIENTO DEL EJERCITO NACIONAL DONDE SE TRATA DE UNA MINERIA ILEGAL LA CUAL TIENE REDES DE MEDIA TENSION (13.2KV) EN DONDE NO CUMPLEN CON LA NORMATIVIDAD ELECTRICA (RETIE), TENIENDO UNA APROXIMACION DE 2M DESDE EL CONDUCTOR AL PISO, POR LO QUE SE PROCEDE A AISLAR LINEAS DE MEDIA TENSION QUE QUE GENEREN DICHO RIESGO SOLICITAN EL INGE ANGELO RINCON. <br>Usuario / Fecha: cesar mauricio montoya mera  / 2024-03-08 11:20:54<br><br>\",\n          \"SE GENERA ODO POR EMERGENCIA   PARA REPARAR  2 LINEA PRMARIA REVENTADA EN EL NODO M64136, SE DEBE GENERAR CTA DE COBRO, PARA LA REPARACION SE  HACE ENCESARIO RELAIZAR APERTURA DE CTO ENE23L16 , CORTE VISIBLE  EN CUCHILLAS GENERALES  M64003, SE ABREN CUCHILLAS  M64059  Y SE CIERRE RECO DE ITX  2AS7EN61 , SE HACE CORTE VISIBLE   EN EL RECONECTADOR DE ITX  2EN5EN61  PARA ABRIR ARCOS EN EL NODO M64010 E INSTALAR CUCHILLAS DEFINITIVAS  EN ESTE NODO  SE DEBE REALIZAR REPORTE A GIGA  ( LA INSTALACION DE LAS CUCHILLAS NO  FUE INFORMADA A CENTRO DE CONTROL EN LA PLANEACION DE LAS MANIOBRAS PARA LA REPARACION DE LA LINEA PRIMARIA, SE INFORM\\u00d3 DURANTE LA EJECUCION DE LAS MANIOBRAS; SE INFORMA NOVEDAD AL ING  MANUEL USCATEGUI),SE DEJAN CUCHILLAS  M64010 ABIERTA Y SE CIERRA RECONECTADOR DE ITX 2EN5EN61, EL GRUPO CONTINUA CON LA REPARACION DE LAS LINEAS PRIMARIAS REVENTADAS\\t\\t\\t\\t\\t\\t\\t\\t\\t\\n<br>Usuario / Fecha: angela maria tabares sanchez  / 2024-06-07 13:31:35<br><br>\"\n        ],\n        \"semantic_type\": \"\",\n        \"description\": \"\"\n      }\n    },\n    {\n      \"column\": \"EJECUTADA\",\n      \"properties\": {\n        \"dtype\": \"category\",\n        \"num_unique_values\": 10642,\n        \"samples\": [\n          \"\\n- 17:50 A 17:52 DISPARA PSO23L15 CLINICAS - SE\\u00d1AL DISPARO FASE R - T - GENERAL - 50 ETPA 1 - 50N ETAPA1 - SE LLAMA A USUARIO TF M53001 E INFORMA SERVICIO NORMAL\\nUsuario / Fecha: guillermo ivan mejia carvajal  / 2024-02-29 20:03:10\",\n          \"\\nJHONY GARCIA\\n- 13:00 CAMBIA 1 FQ 0.6 DUAL TF O22051 RECHAZA - SOLICITA APOYO DE OTRO AT\\n\\nJHONY GARCIA - JHON MARIO HIDALGO\\n- HACE RECORRIDO A RED SECUNDARIA - GASTAN 5 FQ 0.6 DUAL TF O22051 HACIENDO ENSAYOS - SE ENCUENTRA RED EN CORTO CALIBRE 2 ACSR - COMUNIDAD INDIGENA MANIPULAN REDES SECUNDARIAS - RED QUEDO DILATADA - SE SUSPENDIO FASE FALLADA Y SE CONECTA A FASE BUENA PARA DAR SERVICIO A USUARIOS - QUEDA PENDIENTE - AT INFORMA A SISTENTE DE ZONA LUIS JAVIER HERRERA - 17:22 CAMBIA 1 FQ 0.6 DUAL TF O22051\\n- 13:47 CAMBIA 2 FQ 6 T SW O22050 DE REPETICION POR REPOSICION - NO HABIA USUARIOS AFECTADOS\\nUsuario / Fecha: guillermo ivan mejia carvajal  / 2024-05-16 18:36:51\\nINGRESAR NOTA - SE AISLA PUENTES RAMAL PARA USUARIOS ILEGALES\\nUsuario / Fecha: guillermo ivan mejia carvajal  / 2024-05-16 18:45:34\",\n          \"\\n- 11:25 A 12:31 ABIERTA SW E55276 PARA CAMBIO DE TF E55539 - PERO NO SE PUDO CAMBIAR TF  E55539 YA QUE EN DESPLAZAMIENTO DE TF EN SEMOVIENTE SE ESCUCHA SONIDO DENTRO DE TF COMO SI HUBIERA ALGO SUELTO - SE INFORMA A ASISTENTE DE ZONA ANNYINSON SCARPETA Y AURTORIZA RETIRAR TF E55540 QUE NO TIENE USUARIOS - 12:45 HACE PRUEBAS A TF E55540 CON 1 FQ 1H Y RECAHZA - SE RETIRA TF E55540 DE 3 KVA - 7,6 KV Y SE LLEVA PARA LA BODEGA DE DORADA- CONTINUA TF E55539 PENDIENTE PARA CAMBIO - \\nUsuario / Fecha: guillermo ivan mejia carvajal  / 2024-02-10 21:18:43\"\n        ],\n        \"semantic_type\": \"\",\n        \"description\": \"\"\n      }\n    }\n  ]\n}"
            }
          },
          "metadata": {},
          "execution_count": 15
        }
      ]
    },
    {
      "cell_type": "markdown",
      "source": [
        "unificamos los campos de texto para pasarlas dentro del contexto de la pregunta"
      ],
      "metadata": {
        "id": "DWKo0q8CDyCb"
      }
    },
    {
      "cell_type": "code",
      "source": [
        "import re"
      ],
      "metadata": {
        "id": "3C3gRI-_Ep8O"
      },
      "execution_count": 16,
      "outputs": []
    },
    {
      "cell_type": "code",
      "source": [
        "# Paso 1: Unificar las 3 columnas separadas por espacio\n",
        "eventos['texto unificado'] = eventos['CAUSA_SGO'] + ' ' + eventos['EJECUTANDOSE'] + ' ' + eventos['EJECUTADA']\n",
        "\n",
        "# Paso 2: Preprocesar para eliminar las horas en formato HH:MM\n",
        "# Usamos una expresión regular para eliminar las horas\n",
        "eventos['texto unificado'] = eventos['texto unificado'].apply(lambda x: re.sub(r'\\b\\d{1,2}:\\d{2}\\b', '', x))\n",
        "# Expresión regular para eliminar horas (HH:MM), fechas (YYYY-MM-DD), \"/\", y etiquetas HTML\n",
        "eventos['texto unificado'] = eventos['texto unificado'].apply(lambda x: re.sub(r'\\b\\d{1,2}:\\d{2}\\b', '', x))  # Eliminar horas\n",
        "eventos['texto unificado'] = eventos['texto unificado'].apply(lambda x: re.sub(r'\\d{4}-\\d{2}-\\d{2}', '', x))  # Eliminar fechas\n",
        "eventos['texto unificado'] = eventos['texto unificado'].apply(lambda x: re.sub(r'/', '', x))  # Eliminar \"/\"\n",
        "eventos['texto unificado'] = eventos['texto unificado'].apply(lambda x: re.sub(r'<.*?>', '', x))  # Eliminar etiquetas HTML"
      ],
      "metadata": {
        "id": "3o4h6BCxDxre"
      },
      "execution_count": 17,
      "outputs": []
    },
    {
      "cell_type": "code",
      "source": [
        "eventos.head(10)['texto unificado']"
      ],
      "metadata": {
        "colab": {
          "base_uri": "https://localhost:8080/",
          "height": 398
        },
        "id": "sHju6mLlExHl",
        "outputId": "e65a295f-bda5-4944-ca0f-d7e36356c2d1"
      },
      "execution_count": 18,
      "outputs": [
        {
          "output_type": "execute_result",
          "data": {
            "text/plain": [
              "0    Falla en redes de distribución y elementos aso...\n",
              "1    Condiciones atmosféricas - Disparo circuitos 3...\n",
              "2    Afectación por fallas en redes de otros OR  SE...\n",
              "3    Apertura en redes del SDL por causa de equipos...\n",
              "4    Condiciones atmosféricas - \\n\\n\\nevento simult...\n",
              "5    Proyectos de adecuaciones y traslado de infrae...\n",
              "6    Apertura en redes del SDL por causa de equipos...\n",
              "7    Apertura en redes del SDL por causa de equipos...\n",
              "8    Causa desconocida el encargado de la odo solic...\n",
              "9    Causa desconocida el encargado de la odo solic...\n",
              "Name: texto unificado, dtype: object"
            ],
            "text/html": [
              "<div>\n",
              "<style scoped>\n",
              "    .dataframe tbody tr th:only-of-type {\n",
              "        vertical-align: middle;\n",
              "    }\n",
              "\n",
              "    .dataframe tbody tr th {\n",
              "        vertical-align: top;\n",
              "    }\n",
              "\n",
              "    .dataframe thead th {\n",
              "        text-align: right;\n",
              "    }\n",
              "</style>\n",
              "<table border=\"1\" class=\"dataframe\">\n",
              "  <thead>\n",
              "    <tr style=\"text-align: right;\">\n",
              "      <th></th>\n",
              "      <th>texto unificado</th>\n",
              "    </tr>\n",
              "  </thead>\n",
              "  <tbody>\n",
              "    <tr>\n",
              "      <th>0</th>\n",
              "      <td>Falla en redes de distribución y elementos aso...</td>\n",
              "    </tr>\n",
              "    <tr>\n",
              "      <th>1</th>\n",
              "      <td>Condiciones atmosféricas - Disparo circuitos 3...</td>\n",
              "    </tr>\n",
              "    <tr>\n",
              "      <th>2</th>\n",
              "      <td>Afectación por fallas en redes de otros OR  SE...</td>\n",
              "    </tr>\n",
              "    <tr>\n",
              "      <th>3</th>\n",
              "      <td>Apertura en redes del SDL por causa de equipos...</td>\n",
              "    </tr>\n",
              "    <tr>\n",
              "      <th>4</th>\n",
              "      <td>Condiciones atmosféricas - \\n\\n\\nevento simult...</td>\n",
              "    </tr>\n",
              "    <tr>\n",
              "      <th>5</th>\n",
              "      <td>Proyectos de adecuaciones y traslado de infrae...</td>\n",
              "    </tr>\n",
              "    <tr>\n",
              "      <th>6</th>\n",
              "      <td>Apertura en redes del SDL por causa de equipos...</td>\n",
              "    </tr>\n",
              "    <tr>\n",
              "      <th>7</th>\n",
              "      <td>Apertura en redes del SDL por causa de equipos...</td>\n",
              "    </tr>\n",
              "    <tr>\n",
              "      <th>8</th>\n",
              "      <td>Causa desconocida el encargado de la odo solic...</td>\n",
              "    </tr>\n",
              "    <tr>\n",
              "      <th>9</th>\n",
              "      <td>Causa desconocida el encargado de la odo solic...</td>\n",
              "    </tr>\n",
              "  </tbody>\n",
              "</table>\n",
              "</div><br><label><b>dtype:</b> object</label>"
            ]
          },
          "metadata": {},
          "execution_count": 18
        }
      ]
    },
    {
      "cell_type": "code",
      "source": [
        "eventos.head(10)['texto unificado'].iloc[0]"
      ],
      "metadata": {
        "colab": {
          "base_uri": "https://localhost:8080/",
          "height": 125
        },
        "id": "F9q-oCRNE2Rq",
        "outputId": "12a7cecc-fce2-4288-826a-523194b6f1c0"
      },
      "execution_count": 19,
      "outputs": [
        {
          "output_type": "execute_result",
          "data": {
            "text/plain": [
              "'Falla en redes de distribución y elementos asociados : CARLOS SIERRA INFORMA QUE REPARARON ARCO REVENTADO EN EL B14023 Y CAMBIARON 2 CONECTORES DE RANURA PARALELA, SOLICITAN DESATERRIZAR ENE-AZA 2, MIENTRAS CIERRAN CORTE VISIBLE EN COCA-COLA.\\n: DESATERRIZADO ENE-AZA 2.\\nCERRADAS LINEAS AZA-ENE 1 Y 3.Usuario  Fecha: juan carlos ortegon nunez    :08: CARLOS SIERRA INFORMA QUE TIENEN TENSION EN LA LINEA ENE30L16 EN EL B14023 DONDE HAY ARCO REVENTADO, POR LO CUAL SOLICITAN ABRIR AMBOS EXTREMOS ENA-AZA 1 Y 3; SE CONSULTA CON INGO MANUEL USCATEGUI QUIEN APRUEBA LAS MANIOBRAS, INDICA CARLOS SIERRA QUE DEMORAN MAS O MENOS UNA HORA REPARANDO EL DA?O YA QIE TAMBIEN VAN A CAMBIAR ALGUNOS AISLADORES QUE OBSERVAN DEFECTUOSOS.Usuario  Fecha: juan carlos ortegon nunez    :39SE REALIZA APERTURA DE LAS CUCHILLAS B15173 SE REALIZA NUEVAMENTE ENSAYO Y CIERRA NORMAL AL MOMENTO DE CERRAR LA TOPOLOGIA HACE UNA EXPLOSION QUEDA PENDIENTE PARA MA?ANA REVISAR LA ESTRUCTURA AISLADORES Y PARARRAYOS Usuario  Fecha: efren suarez peralta    :48 Por descargas atmosf?ricas se presenta disparo simultaneo de los interruptores MTO30L12 AZA, ENE30L16 AZA_2, ENE30T11 Llegada TF1, ENE30L18 AZA_3.\\n se realiza intento de cierre al industrial 2 ENE30L16 y se presenta disparo PSO_AZA en ambos extremos apagando SE Alta Suiza y Enea 3313.2KV, hubo perdida de comunicaci?n en ambas subestaciones en el momento del disparo, se procedi? a realizar un barrido a los circuitos 13.2kv para volver a energizar.\\n cierre del interruptor MTO30L12 AZA llegando tensi?n a SE Alta Suiza y Enea.\\n cierre del interruptor ENE30T11 Llegada TF1 \\n se normaliza topolog?a circuitos 13.2kv \\n Cierre del interruptor PSO_AZA 33KV en ambos extremos \\n apertura del seccionalizador AZA304D3 COCA COLA\\n Cierre de la transferencia 3EN6EN71 \\n Cierre del seccionalizador AZA304D4 \\n disparo circuito ENE30L17 Herveo afectando los industriales \\nSe realiza recorrido por parte de personal de SYL Carlos Alberto Sierra y no se encontr? todo normal en la red se ubicaron en Induma y solicitaron cerrar el interruptor ENE30L16 AZA_2\\n se cierra interruptor ENE30L16 y recibe normal se procede a normalizar topolog?a de los industriales y se cierra el seccionalizador AZA304D3 Coca Cola y se presento disparo con AR del interruptor  AZA30L14 informa el personal de SYL que se vio unas explosiones en la empresa de Induma   \\nUsuario  Fecha: efren suarez peralta    :58 \\nREPARAN ARCO VOLADO EN EL B14023 Y CAMBIAN 2 CONECTORES DE RANURA PARALELA QUE ESTABAN DEFECTUOSOS.\\n: CERRADO ENE30L16 HASTA COCA-COLA, ENTRANDO NORMAL.\\n: CERRADO COCA-COLA, ENTRA NORMAL; SE ESPERA UNOS 6 MINUTOS PARA NORMALIZAR TOPOLOGIA.\\n: ABIERTO LA CONSOLATA.\\n: CERRADO COLOMBIT Y ABIERTO 3EN6EN71(ITX CON HERVEO), QUEDANDO TOPOLOGIA NORMAL.\\nPRESTO APOYO JUAN CARLOS RAMIREZ CON MANIOBRAS CORTE VISIBLE EN COCA-COLA; SE COORDINO CON INGO J.JAIRO GARCIA DISPONIBLE MAI. \\n\\nUsuario  Fecha: juan carlos ortegon nunez    :17\\nAPOYO JUAN CARLOS RAMIREZ.\\nUsuario  Fecha: juan carlos ortegon nunez    :24\\n.\\nUsuario  Fecha: esteban galvis garcia    :47'"
            ],
            "application/vnd.google.colaboratory.intrinsic+json": {
              "type": "string"
            }
          },
          "metadata": {},
          "execution_count": 19
        }
      ]
    },
    {
      "cell_type": "markdown",
      "source": [
        "mirar como pulir los elementos que le suministrar al modelo de lenguaje"
      ],
      "metadata": {
        "id": "HOaC0yX3GD3m"
      }
    },
    {
      "cell_type": "markdown",
      "source": [
        "## DEFINIMOS EL TEMPLATE PARA EL MODELO DE LENGUAJE"
      ],
      "metadata": {
        "id": "KLTAGrtcGOPg"
      }
    },
    {
      "cell_type": "code",
      "source": [
        "def makeQuestion(chroma_Db, event_comment):\n",
        "    template = \"\"\"\n",
        "    Eres un experto técnico en infraestructura eléctrica. Tu objetivo es responder a las preguntas basado en el docuemento proporcionado.\n",
        "    Si en el contexto proporcionado no está la respuesta a la pregunta hecha por el usuario, no inventes.\n",
        "\n",
        "    {context}\n",
        "\n",
        "    {chat_history}\n",
        "    Human: {human_input}\n",
        "    Chatbot (Responde de una manera formal):\n",
        "    \"\"\"\n",
        "    question = \"Teniendo en cuenta los tipos de fallas en el contexto técnico y operativo, y el comentario que se encuentra al final, asociado a una falla presentada dime en cual de las categorias encaja mejor, dame la respuesta siempre iniciando con la frase La falla presentada en el comentario encaja mejor en la categoría de y con la categoria entre comillas, con eso presente este es el comentario : \"+ event_comment\n",
        "\n",
        "    prompt = PromptTemplate(\n",
        "    input_variables=[\"chat_history\", \"human_input\", \"context\"], template=template\n",
        "    )\n",
        "\n",
        "    ### CONFIGURAMOS EL MODELO DE LENGUAJE\n",
        "    memory = ConversationBufferMemory(memory_key=\"chat_history\", input_key=\"human_input\")\n",
        "    chain = load_qa_chain(\n",
        "    ChatOpenAI(model_name=\"gpt-3.5-turbo\",temperature=0), chain_type=\"stuff\", memory=memory, prompt=prompt\n",
        "    )\n",
        "\n",
        "    docs=chroma_Db.similarity_search(question,k=6)\n",
        "    response=chain({\"input_documents\": docs, \"human_input\": question, \"chat_history\":memory}, return_only_outputs=False)['output_text'] #AI answer\n",
        "    return response\n",
        "\n",
        "\n",
        "def getDataExpresion(response):\n",
        "   # Expresión regular para extraer lo que está entre comillas\n",
        "   resultado = re.findall(r'\"([^\"]*)\"', response)\n",
        "   return resultado"
      ],
      "metadata": {
        "id": "I__cEOzNGGxg"
      },
      "execution_count": 20,
      "outputs": []
    },
    {
      "cell_type": "markdown",
      "source": [
        "Probamos la pregunta"
      ],
      "metadata": {
        "id": "tZXWIdI_HtFd"
      }
    },
    {
      "cell_type": "code",
      "source": [
        "comentario =  eventos.head(10)['texto unificado'].iloc[0]\n",
        "respuesta = makeQuestion(chroma_db, comentario)"
      ],
      "metadata": {
        "colab": {
          "base_uri": "https://localhost:8080/"
        },
        "id": "BuYfyxyzHsxC",
        "outputId": "4bd657ec-b437-4dc1-e780-4f4dd5ee6cce"
      },
      "execution_count": 21,
      "outputs": [
        {
          "output_type": "stream",
          "name": "stderr",
          "text": [
            "/tmp/ipython-input-825284019.py:19: LangChainDeprecationWarning: Please see the migration guide at: https://python.langchain.com/docs/versions/migrating_memory/\n",
            "  memory = ConversationBufferMemory(memory_key=\"chat_history\", input_key=\"human_input\")\n",
            "/tmp/ipython-input-825284019.py:21: LangChainDeprecationWarning: The class `ChatOpenAI` was deprecated in LangChain 0.0.10 and will be removed in 1.0. An updated version of the class exists in the :class:`~langchain-openai package and should be used instead. To use it run `pip install -U :class:`~langchain-openai` and import as `from :class:`~langchain_openai import ChatOpenAI``.\n",
            "  ChatOpenAI(model_name=\"gpt-3.5-turbo\",temperature=0), chain_type=\"stuff\", memory=memory, prompt=prompt\n",
            "/tmp/ipython-input-825284019.py:20: LangChainDeprecationWarning: This class is deprecated. See the following migration guides for replacements based on `chain_type`:\n",
            "stuff: https://python.langchain.com/docs/versions/migrating_chains/stuff_docs_chain\n",
            "map_reduce: https://python.langchain.com/docs/versions/migrating_chains/map_reduce_chain\n",
            "refine: https://python.langchain.com/docs/versions/migrating_chains/refine_chain\n",
            "map_rerank: https://python.langchain.com/docs/versions/migrating_chains/map_rerank_docs_chain\n",
            "\n",
            "See also guides on retrieval and question-answering here: https://python.langchain.com/docs/how_to/#qa-with-rag\n",
            "  chain = load_qa_chain(\n",
            "/tmp/ipython-input-825284019.py:25: LangChainDeprecationWarning: The method `Chain.__call__` was deprecated in langchain 0.1.0 and will be removed in 1.0. Use :meth:`~invoke` instead.\n",
            "  response=chain({\"input_documents\": docs, \"human_input\": question, \"chat_history\":memory}, return_only_outputs=False)['output_text'] #AI answer\n"
          ]
        }
      ]
    },
    {
      "cell_type": "markdown",
      "source": [
        "PUEDO EXTRAER POR EXPRESIONES REGULARES LA CATEGORIA UNICAMENTE"
      ],
      "metadata": {
        "id": "K9YFrbvuIEy2"
      }
    },
    {
      "cell_type": "code",
      "source": [
        "respuesta"
      ],
      "metadata": {
        "colab": {
          "base_uri": "https://localhost:8080/",
          "height": 35
        },
        "id": "n9vysx6mIDUR",
        "outputId": "1f9a9087-40eb-4d0c-f882-dd709780f3bc"
      },
      "execution_count": 22,
      "outputs": [
        {
          "output_type": "execute_result",
          "data": {
            "text/plain": [
              "'La falla presentada en el comentario encaja mejor en la categoría de \"Arco reventado\".'"
            ],
            "application/vnd.google.colaboratory.intrinsic+json": {
              "type": "string"
            }
          },
          "metadata": {},
          "execution_count": 22
        }
      ]
    },
    {
      "cell_type": "code",
      "source": [
        "category = getDataExpresion(respuesta)"
      ],
      "metadata": {
        "id": "QuV3DBFvJ80B"
      },
      "execution_count": 23,
      "outputs": []
    },
    {
      "cell_type": "code",
      "source": [
        "category"
      ],
      "metadata": {
        "colab": {
          "base_uri": "https://localhost:8080/"
        },
        "id": "f8yxxwsvKAMo",
        "outputId": "b1decc81-14da-4168-c332-786913629678"
      },
      "execution_count": 24,
      "outputs": [
        {
          "output_type": "execute_result",
          "data": {
            "text/plain": [
              "['Arco reventado']"
            ]
          },
          "metadata": {},
          "execution_count": 24
        }
      ]
    },
    {
      "cell_type": "markdown",
      "source": [
        "## HACEMOS UN PROCESO ITERATIVO DE TODO EL ARCHIVO DE EXCEL Y LO AGREGAMOS COMO UNA NUEVA COLUMNA"
      ],
      "metadata": {
        "id": "_Nvy52hpvxgg"
      }
    },
    {
      "cell_type": "code",
      "source": [
        "def getClassFunction(text):\n",
        "    respuesta = makeQuestion(chroma_db, text)\n",
        "\n",
        "    category = getDataExpresion(respuesta)\n",
        "\n",
        "    return {'categoria':category[0],'respuesta':respuesta}"
      ],
      "metadata": {
        "id": "lNk55w_0xyE0"
      },
      "execution_count": 25,
      "outputs": []
    },
    {
      "cell_type": "markdown",
      "source": [
        "tomando una muestra de los primeros 30 eventos"
      ],
      "metadata": {
        "id": "06g6Yt0zyMPC"
      }
    },
    {
      "cell_type": "code",
      "source": [
        "eventos_muestras = eventos.head(15)"
      ],
      "metadata": {
        "id": "hY5CK8zPypTW"
      },
      "execution_count": 26,
      "outputs": []
    },
    {
      "cell_type": "code",
      "source": [
        "# Aplicar la función a cada fila de la columna y guardar en una lista\n",
        "resultados = eventos_muestras['texto unificado'].apply(getClassFunction).tolist()"
      ],
      "metadata": {
        "id": "byXsbBN4v3cA"
      },
      "execution_count": 27,
      "outputs": []
    },
    {
      "cell_type": "code",
      "source": [
        "resultados"
      ],
      "metadata": {
        "colab": {
          "base_uri": "https://localhost:8080/"
        },
        "id": "RFpSjKDVy99s",
        "outputId": "08881a2e-3f3c-45c6-e9f4-09eb64caf119"
      },
      "execution_count": 28,
      "outputs": [
        {
          "output_type": "execute_result",
          "data": {
            "text/plain": [
              "[{'categoria': 'Arco reventado',\n",
              "  'respuesta': 'La falla presentada en el comentario encaja mejor en la categoría de \"Arco reventado\".'},\n",
              " {'categoria': 'Disparo',\n",
              "  'respuesta': 'La falla presentada en el comentario encaja mejor en la categoría de \"Disparo\".'},\n",
              " {'categoria': 'Arco reventado o suelto',\n",
              "  'respuesta': 'La falla presentada en el comentario encaja mejor en la categoría de \"Arco reventado o suelto\".'},\n",
              " {'categoria': 'Descarga',\n",
              "  'respuesta': 'La falla presentada en el comentario encaja mejor en la categoría de \"Descarga\".'},\n",
              " {'categoria': 'Descarga',\n",
              "  'respuesta': 'La falla presentada en el comentario encaja mejor en la categoría de \"Descarga\".'},\n",
              " {'categoria': 'Disparo',\n",
              "  'respuesta': 'La falla presentada en el comentario encaja mejor en la categoría de \"Disparo\".'},\n",
              " {'categoria': 'Disparo',\n",
              "  'respuesta': 'La falla presentada en el comentario encaja mejor en la categoría de \"Disparo\".'},\n",
              " {'categoria': 'Disparo',\n",
              "  'respuesta': 'La falla presentada en el comentario encaja mejor en la categoría de \"Disparo\", ya que se menciona la activación de dispositivos de protección, como el disparo del circuito VIRGINIA BELALCAZAR 33KV en ambos extremos y el disparo de la Bahía de Línea 115kv Esmeralda Viterbo.'},\n",
              " {'categoria': 'Disparo',\n",
              "  'respuesta': 'La falla presentada en el comentario encaja mejor en la categoría de \"Disparo\".'},\n",
              " {'categoria': 'Disparo',\n",
              "  'respuesta': 'La falla presentada en el comentario encaja mejor en la categoría de \"Disparo\".'},\n",
              " {'categoria': 'Disparo',\n",
              "  'respuesta': 'La falla presentada en el comentario encaja mejor en la categoría de \"Disparo\", ya que se menciona que se generó un disparo en la barra de 115 kV de la SE La Rosa, aparentemente por error humano durante la manipulación del cableado del tablero.'},\n",
              " {'categoria': 'Disparo',\n",
              "  'respuesta': 'La falla presentada en el comentario encaja mejor en la categoría de \"Disparo\", ya que se menciona que se generó un disparo en la barra de 115 kV de la SE La Rosa, aparentemente por error humano durante la manipulación del cableado del tablero.'},\n",
              " {'categoria': 'Disparo',\n",
              "  'respuesta': 'La falla presentada en el comentario encaja mejor en la categoría de \"Disparo\".'},\n",
              " {'categoria': 'Disparo',\n",
              "  'respuesta': 'La falla presentada en el comentario encaja mejor en la categoría de \"Disparo\" debido a la activación de un dispositivo de protección (en este caso, el circuito de 33kV) por un motivo desconocido, lo cual provocó la interrupción del servicio para evitar posibles daños mayores.'},\n",
              " {'categoria': 'Disparo',\n",
              "  'respuesta': 'La falla presentada en el comentario encaja mejor en la categoría de \"Disparo\".'}]"
            ]
          },
          "metadata": {},
          "execution_count": 28
        }
      ]
    },
    {
      "cell_type": "code",
      "source": [
        "# Crear un DataFrame a partir de la lista\n",
        "df_results = pd.DataFrame(resultados)\n",
        "df_results"
      ],
      "metadata": {
        "colab": {
          "base_uri": "https://localhost:8080/",
          "height": 520
        },
        "id": "vIW1qOjR0W5f",
        "outputId": "aea964f1-b46a-4d6c-ed06-bbd5da6e6cb9"
      },
      "execution_count": 29,
      "outputs": [
        {
          "output_type": "execute_result",
          "data": {
            "text/plain": [
              "                  categoria                                          respuesta\n",
              "0            Arco reventado  La falla presentada en el comentario encaja me...\n",
              "1                   Disparo  La falla presentada en el comentario encaja me...\n",
              "2   Arco reventado o suelto  La falla presentada en el comentario encaja me...\n",
              "3                  Descarga  La falla presentada en el comentario encaja me...\n",
              "4                  Descarga  La falla presentada en el comentario encaja me...\n",
              "5                   Disparo  La falla presentada en el comentario encaja me...\n",
              "6                   Disparo  La falla presentada en el comentario encaja me...\n",
              "7                   Disparo  La falla presentada en el comentario encaja me...\n",
              "8                   Disparo  La falla presentada en el comentario encaja me...\n",
              "9                   Disparo  La falla presentada en el comentario encaja me...\n",
              "10                  Disparo  La falla presentada en el comentario encaja me...\n",
              "11                  Disparo  La falla presentada en el comentario encaja me...\n",
              "12                  Disparo  La falla presentada en el comentario encaja me...\n",
              "13                  Disparo  La falla presentada en el comentario encaja me...\n",
              "14                  Disparo  La falla presentada en el comentario encaja me..."
            ],
            "text/html": [
              "\n",
              "  <div id=\"df-aca76a6a-24db-477a-9f47-70a88c87e05e\" class=\"colab-df-container\">\n",
              "    <div>\n",
              "<style scoped>\n",
              "    .dataframe tbody tr th:only-of-type {\n",
              "        vertical-align: middle;\n",
              "    }\n",
              "\n",
              "    .dataframe tbody tr th {\n",
              "        vertical-align: top;\n",
              "    }\n",
              "\n",
              "    .dataframe thead th {\n",
              "        text-align: right;\n",
              "    }\n",
              "</style>\n",
              "<table border=\"1\" class=\"dataframe\">\n",
              "  <thead>\n",
              "    <tr style=\"text-align: right;\">\n",
              "      <th></th>\n",
              "      <th>categoria</th>\n",
              "      <th>respuesta</th>\n",
              "    </tr>\n",
              "  </thead>\n",
              "  <tbody>\n",
              "    <tr>\n",
              "      <th>0</th>\n",
              "      <td>Arco reventado</td>\n",
              "      <td>La falla presentada en el comentario encaja me...</td>\n",
              "    </tr>\n",
              "    <tr>\n",
              "      <th>1</th>\n",
              "      <td>Disparo</td>\n",
              "      <td>La falla presentada en el comentario encaja me...</td>\n",
              "    </tr>\n",
              "    <tr>\n",
              "      <th>2</th>\n",
              "      <td>Arco reventado o suelto</td>\n",
              "      <td>La falla presentada en el comentario encaja me...</td>\n",
              "    </tr>\n",
              "    <tr>\n",
              "      <th>3</th>\n",
              "      <td>Descarga</td>\n",
              "      <td>La falla presentada en el comentario encaja me...</td>\n",
              "    </tr>\n",
              "    <tr>\n",
              "      <th>4</th>\n",
              "      <td>Descarga</td>\n",
              "      <td>La falla presentada en el comentario encaja me...</td>\n",
              "    </tr>\n",
              "    <tr>\n",
              "      <th>5</th>\n",
              "      <td>Disparo</td>\n",
              "      <td>La falla presentada en el comentario encaja me...</td>\n",
              "    </tr>\n",
              "    <tr>\n",
              "      <th>6</th>\n",
              "      <td>Disparo</td>\n",
              "      <td>La falla presentada en el comentario encaja me...</td>\n",
              "    </tr>\n",
              "    <tr>\n",
              "      <th>7</th>\n",
              "      <td>Disparo</td>\n",
              "      <td>La falla presentada en el comentario encaja me...</td>\n",
              "    </tr>\n",
              "    <tr>\n",
              "      <th>8</th>\n",
              "      <td>Disparo</td>\n",
              "      <td>La falla presentada en el comentario encaja me...</td>\n",
              "    </tr>\n",
              "    <tr>\n",
              "      <th>9</th>\n",
              "      <td>Disparo</td>\n",
              "      <td>La falla presentada en el comentario encaja me...</td>\n",
              "    </tr>\n",
              "    <tr>\n",
              "      <th>10</th>\n",
              "      <td>Disparo</td>\n",
              "      <td>La falla presentada en el comentario encaja me...</td>\n",
              "    </tr>\n",
              "    <tr>\n",
              "      <th>11</th>\n",
              "      <td>Disparo</td>\n",
              "      <td>La falla presentada en el comentario encaja me...</td>\n",
              "    </tr>\n",
              "    <tr>\n",
              "      <th>12</th>\n",
              "      <td>Disparo</td>\n",
              "      <td>La falla presentada en el comentario encaja me...</td>\n",
              "    </tr>\n",
              "    <tr>\n",
              "      <th>13</th>\n",
              "      <td>Disparo</td>\n",
              "      <td>La falla presentada en el comentario encaja me...</td>\n",
              "    </tr>\n",
              "    <tr>\n",
              "      <th>14</th>\n",
              "      <td>Disparo</td>\n",
              "      <td>La falla presentada en el comentario encaja me...</td>\n",
              "    </tr>\n",
              "  </tbody>\n",
              "</table>\n",
              "</div>\n",
              "    <div class=\"colab-df-buttons\">\n",
              "\n",
              "  <div class=\"colab-df-container\">\n",
              "    <button class=\"colab-df-convert\" onclick=\"convertToInteractive('df-aca76a6a-24db-477a-9f47-70a88c87e05e')\"\n",
              "            title=\"Convert this dataframe to an interactive table.\"\n",
              "            style=\"display:none;\">\n",
              "\n",
              "  <svg xmlns=\"http://www.w3.org/2000/svg\" height=\"24px\" viewBox=\"0 -960 960 960\">\n",
              "    <path d=\"M120-120v-720h720v720H120Zm60-500h600v-160H180v160Zm220 220h160v-160H400v160Zm0 220h160v-160H400v160ZM180-400h160v-160H180v160Zm440 0h160v-160H620v160ZM180-180h160v-160H180v160Zm440 0h160v-160H620v160Z\"/>\n",
              "  </svg>\n",
              "    </button>\n",
              "\n",
              "  <style>\n",
              "    .colab-df-container {\n",
              "      display:flex;\n",
              "      gap: 12px;\n",
              "    }\n",
              "\n",
              "    .colab-df-convert {\n",
              "      background-color: #E8F0FE;\n",
              "      border: none;\n",
              "      border-radius: 50%;\n",
              "      cursor: pointer;\n",
              "      display: none;\n",
              "      fill: #1967D2;\n",
              "      height: 32px;\n",
              "      padding: 0 0 0 0;\n",
              "      width: 32px;\n",
              "    }\n",
              "\n",
              "    .colab-df-convert:hover {\n",
              "      background-color: #E2EBFA;\n",
              "      box-shadow: 0px 1px 2px rgba(60, 64, 67, 0.3), 0px 1px 3px 1px rgba(60, 64, 67, 0.15);\n",
              "      fill: #174EA6;\n",
              "    }\n",
              "\n",
              "    .colab-df-buttons div {\n",
              "      margin-bottom: 4px;\n",
              "    }\n",
              "\n",
              "    [theme=dark] .colab-df-convert {\n",
              "      background-color: #3B4455;\n",
              "      fill: #D2E3FC;\n",
              "    }\n",
              "\n",
              "    [theme=dark] .colab-df-convert:hover {\n",
              "      background-color: #434B5C;\n",
              "      box-shadow: 0px 1px 3px 1px rgba(0, 0, 0, 0.15);\n",
              "      filter: drop-shadow(0px 1px 2px rgba(0, 0, 0, 0.3));\n",
              "      fill: #FFFFFF;\n",
              "    }\n",
              "  </style>\n",
              "\n",
              "    <script>\n",
              "      const buttonEl =\n",
              "        document.querySelector('#df-aca76a6a-24db-477a-9f47-70a88c87e05e button.colab-df-convert');\n",
              "      buttonEl.style.display =\n",
              "        google.colab.kernel.accessAllowed ? 'block' : 'none';\n",
              "\n",
              "      async function convertToInteractive(key) {\n",
              "        const element = document.querySelector('#df-aca76a6a-24db-477a-9f47-70a88c87e05e');\n",
              "        const dataTable =\n",
              "          await google.colab.kernel.invokeFunction('convertToInteractive',\n",
              "                                                    [key], {});\n",
              "        if (!dataTable) return;\n",
              "\n",
              "        const docLinkHtml = 'Like what you see? Visit the ' +\n",
              "          '<a target=\"_blank\" href=https://colab.research.google.com/notebooks/data_table.ipynb>data table notebook</a>'\n",
              "          + ' to learn more about interactive tables.';\n",
              "        element.innerHTML = '';\n",
              "        dataTable['output_type'] = 'display_data';\n",
              "        await google.colab.output.renderOutput(dataTable, element);\n",
              "        const docLink = document.createElement('div');\n",
              "        docLink.innerHTML = docLinkHtml;\n",
              "        element.appendChild(docLink);\n",
              "      }\n",
              "    </script>\n",
              "  </div>\n",
              "\n",
              "\n",
              "    <div id=\"df-092cca15-8176-4e7c-b8ea-afead9f45602\">\n",
              "      <button class=\"colab-df-quickchart\" onclick=\"quickchart('df-092cca15-8176-4e7c-b8ea-afead9f45602')\"\n",
              "                title=\"Suggest charts\"\n",
              "                style=\"display:none;\">\n",
              "\n",
              "<svg xmlns=\"http://www.w3.org/2000/svg\" height=\"24px\"viewBox=\"0 0 24 24\"\n",
              "     width=\"24px\">\n",
              "    <g>\n",
              "        <path d=\"M19 3H5c-1.1 0-2 .9-2 2v14c0 1.1.9 2 2 2h14c1.1 0 2-.9 2-2V5c0-1.1-.9-2-2-2zM9 17H7v-7h2v7zm4 0h-2V7h2v10zm4 0h-2v-4h2v4z\"/>\n",
              "    </g>\n",
              "</svg>\n",
              "      </button>\n",
              "\n",
              "<style>\n",
              "  .colab-df-quickchart {\n",
              "      --bg-color: #E8F0FE;\n",
              "      --fill-color: #1967D2;\n",
              "      --hover-bg-color: #E2EBFA;\n",
              "      --hover-fill-color: #174EA6;\n",
              "      --disabled-fill-color: #AAA;\n",
              "      --disabled-bg-color: #DDD;\n",
              "  }\n",
              "\n",
              "  [theme=dark] .colab-df-quickchart {\n",
              "      --bg-color: #3B4455;\n",
              "      --fill-color: #D2E3FC;\n",
              "      --hover-bg-color: #434B5C;\n",
              "      --hover-fill-color: #FFFFFF;\n",
              "      --disabled-bg-color: #3B4455;\n",
              "      --disabled-fill-color: #666;\n",
              "  }\n",
              "\n",
              "  .colab-df-quickchart {\n",
              "    background-color: var(--bg-color);\n",
              "    border: none;\n",
              "    border-radius: 50%;\n",
              "    cursor: pointer;\n",
              "    display: none;\n",
              "    fill: var(--fill-color);\n",
              "    height: 32px;\n",
              "    padding: 0;\n",
              "    width: 32px;\n",
              "  }\n",
              "\n",
              "  .colab-df-quickchart:hover {\n",
              "    background-color: var(--hover-bg-color);\n",
              "    box-shadow: 0 1px 2px rgba(60, 64, 67, 0.3), 0 1px 3px 1px rgba(60, 64, 67, 0.15);\n",
              "    fill: var(--button-hover-fill-color);\n",
              "  }\n",
              "\n",
              "  .colab-df-quickchart-complete:disabled,\n",
              "  .colab-df-quickchart-complete:disabled:hover {\n",
              "    background-color: var(--disabled-bg-color);\n",
              "    fill: var(--disabled-fill-color);\n",
              "    box-shadow: none;\n",
              "  }\n",
              "\n",
              "  .colab-df-spinner {\n",
              "    border: 2px solid var(--fill-color);\n",
              "    border-color: transparent;\n",
              "    border-bottom-color: var(--fill-color);\n",
              "    animation:\n",
              "      spin 1s steps(1) infinite;\n",
              "  }\n",
              "\n",
              "  @keyframes spin {\n",
              "    0% {\n",
              "      border-color: transparent;\n",
              "      border-bottom-color: var(--fill-color);\n",
              "      border-left-color: var(--fill-color);\n",
              "    }\n",
              "    20% {\n",
              "      border-color: transparent;\n",
              "      border-left-color: var(--fill-color);\n",
              "      border-top-color: var(--fill-color);\n",
              "    }\n",
              "    30% {\n",
              "      border-color: transparent;\n",
              "      border-left-color: var(--fill-color);\n",
              "      border-top-color: var(--fill-color);\n",
              "      border-right-color: var(--fill-color);\n",
              "    }\n",
              "    40% {\n",
              "      border-color: transparent;\n",
              "      border-right-color: var(--fill-color);\n",
              "      border-top-color: var(--fill-color);\n",
              "    }\n",
              "    60% {\n",
              "      border-color: transparent;\n",
              "      border-right-color: var(--fill-color);\n",
              "    }\n",
              "    80% {\n",
              "      border-color: transparent;\n",
              "      border-right-color: var(--fill-color);\n",
              "      border-bottom-color: var(--fill-color);\n",
              "    }\n",
              "    90% {\n",
              "      border-color: transparent;\n",
              "      border-bottom-color: var(--fill-color);\n",
              "    }\n",
              "  }\n",
              "</style>\n",
              "\n",
              "      <script>\n",
              "        async function quickchart(key) {\n",
              "          const quickchartButtonEl =\n",
              "            document.querySelector('#' + key + ' button');\n",
              "          quickchartButtonEl.disabled = true;  // To prevent multiple clicks.\n",
              "          quickchartButtonEl.classList.add('colab-df-spinner');\n",
              "          try {\n",
              "            const charts = await google.colab.kernel.invokeFunction(\n",
              "                'suggestCharts', [key], {});\n",
              "          } catch (error) {\n",
              "            console.error('Error during call to suggestCharts:', error);\n",
              "          }\n",
              "          quickchartButtonEl.classList.remove('colab-df-spinner');\n",
              "          quickchartButtonEl.classList.add('colab-df-quickchart-complete');\n",
              "        }\n",
              "        (() => {\n",
              "          let quickchartButtonEl =\n",
              "            document.querySelector('#df-092cca15-8176-4e7c-b8ea-afead9f45602 button');\n",
              "          quickchartButtonEl.style.display =\n",
              "            google.colab.kernel.accessAllowed ? 'block' : 'none';\n",
              "        })();\n",
              "      </script>\n",
              "    </div>\n",
              "\n",
              "  <div id=\"id_02ab7f7b-8f5f-4c0c-b431-e70bdc4d6475\">\n",
              "    <style>\n",
              "      .colab-df-generate {\n",
              "        background-color: #E8F0FE;\n",
              "        border: none;\n",
              "        border-radius: 50%;\n",
              "        cursor: pointer;\n",
              "        display: none;\n",
              "        fill: #1967D2;\n",
              "        height: 32px;\n",
              "        padding: 0 0 0 0;\n",
              "        width: 32px;\n",
              "      }\n",
              "\n",
              "      .colab-df-generate:hover {\n",
              "        background-color: #E2EBFA;\n",
              "        box-shadow: 0px 1px 2px rgba(60, 64, 67, 0.3), 0px 1px 3px 1px rgba(60, 64, 67, 0.15);\n",
              "        fill: #174EA6;\n",
              "      }\n",
              "\n",
              "      [theme=dark] .colab-df-generate {\n",
              "        background-color: #3B4455;\n",
              "        fill: #D2E3FC;\n",
              "      }\n",
              "\n",
              "      [theme=dark] .colab-df-generate:hover {\n",
              "        background-color: #434B5C;\n",
              "        box-shadow: 0px 1px 3px 1px rgba(0, 0, 0, 0.15);\n",
              "        filter: drop-shadow(0px 1px 2px rgba(0, 0, 0, 0.3));\n",
              "        fill: #FFFFFF;\n",
              "      }\n",
              "    </style>\n",
              "    <button class=\"colab-df-generate\" onclick=\"generateWithVariable('df_results')\"\n",
              "            title=\"Generate code using this dataframe.\"\n",
              "            style=\"display:none;\">\n",
              "\n",
              "  <svg xmlns=\"http://www.w3.org/2000/svg\" height=\"24px\"viewBox=\"0 0 24 24\"\n",
              "       width=\"24px\">\n",
              "    <path d=\"M7,19H8.4L18.45,9,17,7.55,7,17.6ZM5,21V16.75L18.45,3.32a2,2,0,0,1,2.83,0l1.4,1.43a1.91,1.91,0,0,1,.58,1.4,1.91,1.91,0,0,1-.58,1.4L9.25,21ZM18.45,9,17,7.55Zm-12,3A5.31,5.31,0,0,0,4.9,8.1,5.31,5.31,0,0,0,1,6.5,5.31,5.31,0,0,0,4.9,4.9,5.31,5.31,0,0,0,6.5,1,5.31,5.31,0,0,0,8.1,4.9,5.31,5.31,0,0,0,12,6.5,5.46,5.46,0,0,0,6.5,12Z\"/>\n",
              "  </svg>\n",
              "    </button>\n",
              "    <script>\n",
              "      (() => {\n",
              "      const buttonEl =\n",
              "        document.querySelector('#id_02ab7f7b-8f5f-4c0c-b431-e70bdc4d6475 button.colab-df-generate');\n",
              "      buttonEl.style.display =\n",
              "        google.colab.kernel.accessAllowed ? 'block' : 'none';\n",
              "\n",
              "      buttonEl.onclick = () => {\n",
              "        google.colab.notebook.generateWithVariable('df_results');\n",
              "      }\n",
              "      })();\n",
              "    </script>\n",
              "  </div>\n",
              "\n",
              "    </div>\n",
              "  </div>\n"
            ],
            "application/vnd.google.colaboratory.intrinsic+json": {
              "type": "dataframe",
              "variable_name": "df_results",
              "summary": "{\n  \"name\": \"df_results\",\n  \"rows\": 15,\n  \"fields\": [\n    {\n      \"column\": \"categoria\",\n      \"properties\": {\n        \"dtype\": \"category\",\n        \"num_unique_values\": 4,\n        \"samples\": [\n          \"Disparo\",\n          \"Descarga\",\n          \"Arco reventado\"\n        ],\n        \"semantic_type\": \"\",\n        \"description\": \"\"\n      }\n    },\n    {\n      \"column\": \"respuesta\",\n      \"properties\": {\n        \"dtype\": \"category\",\n        \"num_unique_values\": 7,\n        \"samples\": [\n          \"La falla presentada en el comentario encaja mejor en la categor\\u00eda de \\\"Arco reventado\\\".\",\n          \"La falla presentada en el comentario encaja mejor en la categor\\u00eda de \\\"Disparo\\\".\",\n          \"La falla presentada en el comentario encaja mejor en la categor\\u00eda de \\\"Disparo\\\", ya que se menciona que se gener\\u00f3 un disparo en la barra de 115 kV de la SE La Rosa, aparentemente por error humano durante la manipulaci\\u00f3n del cableado del tablero.\"\n        ],\n        \"semantic_type\": \"\",\n        \"description\": \"\"\n      }\n    }\n  ]\n}"
            }
          },
          "metadata": {},
          "execution_count": 29
        }
      ]
    },
    {
      "cell_type": "markdown",
      "source": [
        "se lo agregamos al dataframe de eventos_muestras"
      ],
      "metadata": {
        "id": "Q4t42VHD0c8-"
      }
    },
    {
      "cell_type": "code",
      "source": [
        "eventos_muestras['tipo_falla'] = df_results['categoria']\n",
        "eventos_muestras['justificacion'] = df_results['respuesta']"
      ],
      "metadata": {
        "colab": {
          "base_uri": "https://localhost:8080/"
        },
        "id": "cFBOb9ce0fCh",
        "outputId": "b517e047-2b83-4f13-b52b-a79504968d44"
      },
      "execution_count": 30,
      "outputs": [
        {
          "output_type": "stream",
          "name": "stderr",
          "text": [
            "/tmp/ipython-input-249328833.py:1: SettingWithCopyWarning: \n",
            "A value is trying to be set on a copy of a slice from a DataFrame.\n",
            "Try using .loc[row_indexer,col_indexer] = value instead\n",
            "\n",
            "See the caveats in the documentation: https://pandas.pydata.org/pandas-docs/stable/user_guide/indexing.html#returning-a-view-versus-a-copy\n",
            "  eventos_muestras['tipo_falla'] = df_results['categoria']\n",
            "/tmp/ipython-input-249328833.py:2: SettingWithCopyWarning: \n",
            "A value is trying to be set on a copy of a slice from a DataFrame.\n",
            "Try using .loc[row_indexer,col_indexer] = value instead\n",
            "\n",
            "See the caveats in the documentation: https://pandas.pydata.org/pandas-docs/stable/user_guide/indexing.html#returning-a-view-versus-a-copy\n",
            "  eventos_muestras['justificacion'] = df_results['respuesta']\n"
          ]
        }
      ]
    },
    {
      "cell_type": "code",
      "source": [
        "eventos_muestras.head(5)"
      ],
      "metadata": {
        "colab": {
          "base_uri": "https://localhost:8080/",
          "height": 608
        },
        "id": "YVadpUSE0xqm",
        "outputId": "615b4b70-1fbb-419e-b724-db09641ca1f9"
      },
      "execution_count": 31,
      "outputs": [
        {
          "output_type": "execute_result",
          "data": {
            "text/plain": [
              "    EVENTO  ODT_BIT  CIRCUITO EQUIPO_OPE ELEM_OPERADO     TIPO_CAUSA  \\\n",
              "0  8258065   935773  AZA30L12   PSO30L13           33  No programada   \n",
              "1  8261543    38887  IRR30L14   IRR30L14           33  No programada   \n",
              "2  8259334   936128  ROS30T21   ROS30T21          TFP  No programada   \n",
              "3  8261569    38889  IRR40L18   IRR40L18          115      Excluible   \n",
              "4  8263163   937158  HER30T16   HER30T16          TFP  No programada   \n",
              "\n",
              "                                           CAUSA_SGO              INICIO  \\\n",
              "0  Falla en redes de distribución y elementos aso... 2024-05-19 13:52:16   \n",
              "1                           Condiciones atmosféricas 2024-05-28 00:55:26   \n",
              "2         Afectación por fallas en redes de otros OR 2024-05-22 16:45:14   \n",
              "3  Apertura en redes del SDL por causa de equipos... 2024-05-28 01:19:57   \n",
              "4                           Condiciones atmosféricas 2024-06-01 16:53:21   \n",
              "\n",
              "                  FIN   HRS  #TRAFOS  #USUARIOS  \\\n",
              "0 2024-05-19 13:52:26  0.00     1637      51133   \n",
              "1 2024-05-28 00:56:29  0.02     2150      47288   \n",
              "2 2024-05-22 16:47:30  0.04      663      32473   \n",
              "3 2024-05-28 01:21:35  0.03      969      31360   \n",
              "4 2024-06-01 16:57:31  0.07      725      30186   \n",
              "\n",
              "                                        EJECUTANDOSE  \\\n",
              "0  09:07: CARLOS SIERRA INFORMA QUE REPARARON ARC...   \n",
              "1                                                  -   \n",
              "2  12:00 SE REALIZA REPARACION DE LA LINEA PRIMAR...   \n",
              "3                                                  -   \n",
              "4                                                  -   \n",
              "\n",
              "                                           EJECUTADA  \\\n",
              "0  \\nREPARAN ARCO VOLADO EN EL B14023 Y CAMBIAN 2...   \n",
              "1          Disparo circuitos 33Kv, Normal por ensayo   \n",
              "2  \\n12:00 SE REALIZA REPARACION DE LA LINEA PRIM...   \n",
              "3  01:19 a 01:21 Disparo de la bahia de linea 115...   \n",
              "4  \\n\\n\\nevento simultaneo de los interruptores B...   \n",
              "\n",
              "                                     texto unificado               tipo_falla  \\\n",
              "0  Falla en redes de distribución y elementos aso...           Arco reventado   \n",
              "1  Condiciones atmosféricas - Disparo circuitos 3...                  Disparo   \n",
              "2  Afectación por fallas en redes de otros OR  SE...  Arco reventado o suelto   \n",
              "3  Apertura en redes del SDL por causa de equipos...                 Descarga   \n",
              "4  Condiciones atmosféricas - \\n\\n\\nevento simult...                 Descarga   \n",
              "\n",
              "                                       justificacion  \n",
              "0  La falla presentada en el comentario encaja me...  \n",
              "1  La falla presentada en el comentario encaja me...  \n",
              "2  La falla presentada en el comentario encaja me...  \n",
              "3  La falla presentada en el comentario encaja me...  \n",
              "4  La falla presentada en el comentario encaja me...  "
            ],
            "text/html": [
              "\n",
              "  <div id=\"df-973eaf2c-7112-4ec6-9764-3d2b1b7e49e9\" class=\"colab-df-container\">\n",
              "    <div>\n",
              "<style scoped>\n",
              "    .dataframe tbody tr th:only-of-type {\n",
              "        vertical-align: middle;\n",
              "    }\n",
              "\n",
              "    .dataframe tbody tr th {\n",
              "        vertical-align: top;\n",
              "    }\n",
              "\n",
              "    .dataframe thead th {\n",
              "        text-align: right;\n",
              "    }\n",
              "</style>\n",
              "<table border=\"1\" class=\"dataframe\">\n",
              "  <thead>\n",
              "    <tr style=\"text-align: right;\">\n",
              "      <th></th>\n",
              "      <th>EVENTO</th>\n",
              "      <th>ODT_BIT</th>\n",
              "      <th>CIRCUITO</th>\n",
              "      <th>EQUIPO_OPE</th>\n",
              "      <th>ELEM_OPERADO</th>\n",
              "      <th>TIPO_CAUSA</th>\n",
              "      <th>CAUSA_SGO</th>\n",
              "      <th>INICIO</th>\n",
              "      <th>FIN</th>\n",
              "      <th>HRS</th>\n",
              "      <th>#TRAFOS</th>\n",
              "      <th>#USUARIOS</th>\n",
              "      <th>EJECUTANDOSE</th>\n",
              "      <th>EJECUTADA</th>\n",
              "      <th>texto unificado</th>\n",
              "      <th>tipo_falla</th>\n",
              "      <th>justificacion</th>\n",
              "    </tr>\n",
              "  </thead>\n",
              "  <tbody>\n",
              "    <tr>\n",
              "      <th>0</th>\n",
              "      <td>8258065</td>\n",
              "      <td>935773</td>\n",
              "      <td>AZA30L12</td>\n",
              "      <td>PSO30L13</td>\n",
              "      <td>33</td>\n",
              "      <td>No programada</td>\n",
              "      <td>Falla en redes de distribución y elementos aso...</td>\n",
              "      <td>2024-05-19 13:52:16</td>\n",
              "      <td>2024-05-19 13:52:26</td>\n",
              "      <td>0.00</td>\n",
              "      <td>1637</td>\n",
              "      <td>51133</td>\n",
              "      <td>09:07: CARLOS SIERRA INFORMA QUE REPARARON ARC...</td>\n",
              "      <td>\\nREPARAN ARCO VOLADO EN EL B14023 Y CAMBIAN 2...</td>\n",
              "      <td>Falla en redes de distribución y elementos aso...</td>\n",
              "      <td>Arco reventado</td>\n",
              "      <td>La falla presentada en el comentario encaja me...</td>\n",
              "    </tr>\n",
              "    <tr>\n",
              "      <th>1</th>\n",
              "      <td>8261543</td>\n",
              "      <td>38887</td>\n",
              "      <td>IRR30L14</td>\n",
              "      <td>IRR30L14</td>\n",
              "      <td>33</td>\n",
              "      <td>No programada</td>\n",
              "      <td>Condiciones atmosféricas</td>\n",
              "      <td>2024-05-28 00:55:26</td>\n",
              "      <td>2024-05-28 00:56:29</td>\n",
              "      <td>0.02</td>\n",
              "      <td>2150</td>\n",
              "      <td>47288</td>\n",
              "      <td>-</td>\n",
              "      <td>Disparo circuitos 33Kv, Normal por ensayo</td>\n",
              "      <td>Condiciones atmosféricas - Disparo circuitos 3...</td>\n",
              "      <td>Disparo</td>\n",
              "      <td>La falla presentada en el comentario encaja me...</td>\n",
              "    </tr>\n",
              "    <tr>\n",
              "      <th>2</th>\n",
              "      <td>8259334</td>\n",
              "      <td>936128</td>\n",
              "      <td>ROS30T21</td>\n",
              "      <td>ROS30T21</td>\n",
              "      <td>TFP</td>\n",
              "      <td>No programada</td>\n",
              "      <td>Afectación por fallas en redes de otros OR</td>\n",
              "      <td>2024-05-22 16:45:14</td>\n",
              "      <td>2024-05-22 16:47:30</td>\n",
              "      <td>0.04</td>\n",
              "      <td>663</td>\n",
              "      <td>32473</td>\n",
              "      <td>12:00 SE REALIZA REPARACION DE LA LINEA PRIMAR...</td>\n",
              "      <td>\\n12:00 SE REALIZA REPARACION DE LA LINEA PRIM...</td>\n",
              "      <td>Afectación por fallas en redes de otros OR  SE...</td>\n",
              "      <td>Arco reventado o suelto</td>\n",
              "      <td>La falla presentada en el comentario encaja me...</td>\n",
              "    </tr>\n",
              "    <tr>\n",
              "      <th>3</th>\n",
              "      <td>8261569</td>\n",
              "      <td>38889</td>\n",
              "      <td>IRR40L18</td>\n",
              "      <td>IRR40L18</td>\n",
              "      <td>115</td>\n",
              "      <td>Excluible</td>\n",
              "      <td>Apertura en redes del SDL por causa de equipos...</td>\n",
              "      <td>2024-05-28 01:19:57</td>\n",
              "      <td>2024-05-28 01:21:35</td>\n",
              "      <td>0.03</td>\n",
              "      <td>969</td>\n",
              "      <td>31360</td>\n",
              "      <td>-</td>\n",
              "      <td>01:19 a 01:21 Disparo de la bahia de linea 115...</td>\n",
              "      <td>Apertura en redes del SDL por causa de equipos...</td>\n",
              "      <td>Descarga</td>\n",
              "      <td>La falla presentada en el comentario encaja me...</td>\n",
              "    </tr>\n",
              "    <tr>\n",
              "      <th>4</th>\n",
              "      <td>8263163</td>\n",
              "      <td>937158</td>\n",
              "      <td>HER30T16</td>\n",
              "      <td>HER30T16</td>\n",
              "      <td>TFP</td>\n",
              "      <td>No programada</td>\n",
              "      <td>Condiciones atmosféricas</td>\n",
              "      <td>2024-06-01 16:53:21</td>\n",
              "      <td>2024-06-01 16:57:31</td>\n",
              "      <td>0.07</td>\n",
              "      <td>725</td>\n",
              "      <td>30186</td>\n",
              "      <td>-</td>\n",
              "      <td>\\n\\n\\nevento simultaneo de los interruptores B...</td>\n",
              "      <td>Condiciones atmosféricas - \\n\\n\\nevento simult...</td>\n",
              "      <td>Descarga</td>\n",
              "      <td>La falla presentada en el comentario encaja me...</td>\n",
              "    </tr>\n",
              "  </tbody>\n",
              "</table>\n",
              "</div>\n",
              "    <div class=\"colab-df-buttons\">\n",
              "\n",
              "  <div class=\"colab-df-container\">\n",
              "    <button class=\"colab-df-convert\" onclick=\"convertToInteractive('df-973eaf2c-7112-4ec6-9764-3d2b1b7e49e9')\"\n",
              "            title=\"Convert this dataframe to an interactive table.\"\n",
              "            style=\"display:none;\">\n",
              "\n",
              "  <svg xmlns=\"http://www.w3.org/2000/svg\" height=\"24px\" viewBox=\"0 -960 960 960\">\n",
              "    <path d=\"M120-120v-720h720v720H120Zm60-500h600v-160H180v160Zm220 220h160v-160H400v160Zm0 220h160v-160H400v160ZM180-400h160v-160H180v160Zm440 0h160v-160H620v160ZM180-180h160v-160H180v160Zm440 0h160v-160H620v160Z\"/>\n",
              "  </svg>\n",
              "    </button>\n",
              "\n",
              "  <style>\n",
              "    .colab-df-container {\n",
              "      display:flex;\n",
              "      gap: 12px;\n",
              "    }\n",
              "\n",
              "    .colab-df-convert {\n",
              "      background-color: #E8F0FE;\n",
              "      border: none;\n",
              "      border-radius: 50%;\n",
              "      cursor: pointer;\n",
              "      display: none;\n",
              "      fill: #1967D2;\n",
              "      height: 32px;\n",
              "      padding: 0 0 0 0;\n",
              "      width: 32px;\n",
              "    }\n",
              "\n",
              "    .colab-df-convert:hover {\n",
              "      background-color: #E2EBFA;\n",
              "      box-shadow: 0px 1px 2px rgba(60, 64, 67, 0.3), 0px 1px 3px 1px rgba(60, 64, 67, 0.15);\n",
              "      fill: #174EA6;\n",
              "    }\n",
              "\n",
              "    .colab-df-buttons div {\n",
              "      margin-bottom: 4px;\n",
              "    }\n",
              "\n",
              "    [theme=dark] .colab-df-convert {\n",
              "      background-color: #3B4455;\n",
              "      fill: #D2E3FC;\n",
              "    }\n",
              "\n",
              "    [theme=dark] .colab-df-convert:hover {\n",
              "      background-color: #434B5C;\n",
              "      box-shadow: 0px 1px 3px 1px rgba(0, 0, 0, 0.15);\n",
              "      filter: drop-shadow(0px 1px 2px rgba(0, 0, 0, 0.3));\n",
              "      fill: #FFFFFF;\n",
              "    }\n",
              "  </style>\n",
              "\n",
              "    <script>\n",
              "      const buttonEl =\n",
              "        document.querySelector('#df-973eaf2c-7112-4ec6-9764-3d2b1b7e49e9 button.colab-df-convert');\n",
              "      buttonEl.style.display =\n",
              "        google.colab.kernel.accessAllowed ? 'block' : 'none';\n",
              "\n",
              "      async function convertToInteractive(key) {\n",
              "        const element = document.querySelector('#df-973eaf2c-7112-4ec6-9764-3d2b1b7e49e9');\n",
              "        const dataTable =\n",
              "          await google.colab.kernel.invokeFunction('convertToInteractive',\n",
              "                                                    [key], {});\n",
              "        if (!dataTable) return;\n",
              "\n",
              "        const docLinkHtml = 'Like what you see? Visit the ' +\n",
              "          '<a target=\"_blank\" href=https://colab.research.google.com/notebooks/data_table.ipynb>data table notebook</a>'\n",
              "          + ' to learn more about interactive tables.';\n",
              "        element.innerHTML = '';\n",
              "        dataTable['output_type'] = 'display_data';\n",
              "        await google.colab.output.renderOutput(dataTable, element);\n",
              "        const docLink = document.createElement('div');\n",
              "        docLink.innerHTML = docLinkHtml;\n",
              "        element.appendChild(docLink);\n",
              "      }\n",
              "    </script>\n",
              "  </div>\n",
              "\n",
              "\n",
              "    <div id=\"df-0218a33f-9cd5-449e-9a39-9d58d6de0558\">\n",
              "      <button class=\"colab-df-quickchart\" onclick=\"quickchart('df-0218a33f-9cd5-449e-9a39-9d58d6de0558')\"\n",
              "                title=\"Suggest charts\"\n",
              "                style=\"display:none;\">\n",
              "\n",
              "<svg xmlns=\"http://www.w3.org/2000/svg\" height=\"24px\"viewBox=\"0 0 24 24\"\n",
              "     width=\"24px\">\n",
              "    <g>\n",
              "        <path d=\"M19 3H5c-1.1 0-2 .9-2 2v14c0 1.1.9 2 2 2h14c1.1 0 2-.9 2-2V5c0-1.1-.9-2-2-2zM9 17H7v-7h2v7zm4 0h-2V7h2v10zm4 0h-2v-4h2v4z\"/>\n",
              "    </g>\n",
              "</svg>\n",
              "      </button>\n",
              "\n",
              "<style>\n",
              "  .colab-df-quickchart {\n",
              "      --bg-color: #E8F0FE;\n",
              "      --fill-color: #1967D2;\n",
              "      --hover-bg-color: #E2EBFA;\n",
              "      --hover-fill-color: #174EA6;\n",
              "      --disabled-fill-color: #AAA;\n",
              "      --disabled-bg-color: #DDD;\n",
              "  }\n",
              "\n",
              "  [theme=dark] .colab-df-quickchart {\n",
              "      --bg-color: #3B4455;\n",
              "      --fill-color: #D2E3FC;\n",
              "      --hover-bg-color: #434B5C;\n",
              "      --hover-fill-color: #FFFFFF;\n",
              "      --disabled-bg-color: #3B4455;\n",
              "      --disabled-fill-color: #666;\n",
              "  }\n",
              "\n",
              "  .colab-df-quickchart {\n",
              "    background-color: var(--bg-color);\n",
              "    border: none;\n",
              "    border-radius: 50%;\n",
              "    cursor: pointer;\n",
              "    display: none;\n",
              "    fill: var(--fill-color);\n",
              "    height: 32px;\n",
              "    padding: 0;\n",
              "    width: 32px;\n",
              "  }\n",
              "\n",
              "  .colab-df-quickchart:hover {\n",
              "    background-color: var(--hover-bg-color);\n",
              "    box-shadow: 0 1px 2px rgba(60, 64, 67, 0.3), 0 1px 3px 1px rgba(60, 64, 67, 0.15);\n",
              "    fill: var(--button-hover-fill-color);\n",
              "  }\n",
              "\n",
              "  .colab-df-quickchart-complete:disabled,\n",
              "  .colab-df-quickchart-complete:disabled:hover {\n",
              "    background-color: var(--disabled-bg-color);\n",
              "    fill: var(--disabled-fill-color);\n",
              "    box-shadow: none;\n",
              "  }\n",
              "\n",
              "  .colab-df-spinner {\n",
              "    border: 2px solid var(--fill-color);\n",
              "    border-color: transparent;\n",
              "    border-bottom-color: var(--fill-color);\n",
              "    animation:\n",
              "      spin 1s steps(1) infinite;\n",
              "  }\n",
              "\n",
              "  @keyframes spin {\n",
              "    0% {\n",
              "      border-color: transparent;\n",
              "      border-bottom-color: var(--fill-color);\n",
              "      border-left-color: var(--fill-color);\n",
              "    }\n",
              "    20% {\n",
              "      border-color: transparent;\n",
              "      border-left-color: var(--fill-color);\n",
              "      border-top-color: var(--fill-color);\n",
              "    }\n",
              "    30% {\n",
              "      border-color: transparent;\n",
              "      border-left-color: var(--fill-color);\n",
              "      border-top-color: var(--fill-color);\n",
              "      border-right-color: var(--fill-color);\n",
              "    }\n",
              "    40% {\n",
              "      border-color: transparent;\n",
              "      border-right-color: var(--fill-color);\n",
              "      border-top-color: var(--fill-color);\n",
              "    }\n",
              "    60% {\n",
              "      border-color: transparent;\n",
              "      border-right-color: var(--fill-color);\n",
              "    }\n",
              "    80% {\n",
              "      border-color: transparent;\n",
              "      border-right-color: var(--fill-color);\n",
              "      border-bottom-color: var(--fill-color);\n",
              "    }\n",
              "    90% {\n",
              "      border-color: transparent;\n",
              "      border-bottom-color: var(--fill-color);\n",
              "    }\n",
              "  }\n",
              "</style>\n",
              "\n",
              "      <script>\n",
              "        async function quickchart(key) {\n",
              "          const quickchartButtonEl =\n",
              "            document.querySelector('#' + key + ' button');\n",
              "          quickchartButtonEl.disabled = true;  // To prevent multiple clicks.\n",
              "          quickchartButtonEl.classList.add('colab-df-spinner');\n",
              "          try {\n",
              "            const charts = await google.colab.kernel.invokeFunction(\n",
              "                'suggestCharts', [key], {});\n",
              "          } catch (error) {\n",
              "            console.error('Error during call to suggestCharts:', error);\n",
              "          }\n",
              "          quickchartButtonEl.classList.remove('colab-df-spinner');\n",
              "          quickchartButtonEl.classList.add('colab-df-quickchart-complete');\n",
              "        }\n",
              "        (() => {\n",
              "          let quickchartButtonEl =\n",
              "            document.querySelector('#df-0218a33f-9cd5-449e-9a39-9d58d6de0558 button');\n",
              "          quickchartButtonEl.style.display =\n",
              "            google.colab.kernel.accessAllowed ? 'block' : 'none';\n",
              "        })();\n",
              "      </script>\n",
              "    </div>\n",
              "\n",
              "    </div>\n",
              "  </div>\n"
            ],
            "application/vnd.google.colaboratory.intrinsic+json": {
              "type": "dataframe",
              "variable_name": "eventos_muestras",
              "summary": "{\n  \"name\": \"eventos_muestras\",\n  \"rows\": 15,\n  \"fields\": [\n    {\n      \"column\": \"EVENTO\",\n      \"properties\": {\n        \"dtype\": \"number\",\n        \"std\": 12645,\n        \"min\": 8222938,\n        \"max\": 8263163,\n        \"num_unique_values\": 14,\n        \"samples\": [\n          8238146,\n          8243865,\n          8258065\n        ],\n        \"semantic_type\": \"\",\n        \"description\": \"\"\n      }\n    },\n    {\n      \"column\": \"ODT_BIT\",\n      \"properties\": {\n        \"dtype\": \"number\",\n        \"std\": 452954,\n        \"min\": 38099,\n        \"max\": 937158,\n        \"num_unique_values\": 13,\n        \"samples\": [\n          38437,\n          928529,\n          935773\n        ],\n        \"semantic_type\": \"\",\n        \"description\": \"\"\n      }\n    },\n    {\n      \"column\": \"CIRCUITO\",\n      \"properties\": {\n        \"dtype\": \"string\",\n        \"num_unique_values\": 11,\n        \"samples\": [\n          \"PSO30L15\",\n          \"AZA30L12\",\n          \"VCT40L15\"\n        ],\n        \"semantic_type\": \"\",\n        \"description\": \"\"\n      }\n    },\n    {\n      \"column\": \"EQUIPO_OPE\",\n      \"properties\": {\n        \"dtype\": \"string\",\n        \"num_unique_values\": 11,\n        \"samples\": [\n          \"PSO30L15\",\n          \"PSO30L13\",\n          \"MAZ40L22\"\n        ],\n        \"semantic_type\": \"\",\n        \"description\": \"\"\n      }\n    },\n    {\n      \"column\": \"ELEM_OPERADO\",\n      \"properties\": {\n        \"dtype\": \"category\",\n        \"num_unique_values\": 3,\n        \"samples\": [\n          33,\n          \"TFP\",\n          115\n        ],\n        \"semantic_type\": \"\",\n        \"description\": \"\"\n      }\n    },\n    {\n      \"column\": \"TIPO_CAUSA\",\n      \"properties\": {\n        \"dtype\": \"category\",\n        \"num_unique_values\": 2,\n        \"samples\": [\n          \"Excluible\",\n          \"No programada\"\n        ],\n        \"semantic_type\": \"\",\n        \"description\": \"\"\n      }\n    },\n    {\n      \"column\": \"CAUSA_SGO\",\n      \"properties\": {\n        \"dtype\": \"category\",\n        \"num_unique_values\": 6,\n        \"samples\": [\n          \"Falla en redes de distribuci\\u00f3n y elementos asociados\",\n          \"Condiciones atmosf\\u00e9ricas\"\n        ],\n        \"semantic_type\": \"\",\n        \"description\": \"\"\n      }\n    },\n    {\n      \"column\": \"INICIO\",\n      \"properties\": {\n        \"dtype\": \"date\",\n        \"min\": \"2024-02-05 10:20:05\",\n        \"max\": \"2024-06-01 16:53:21\",\n        \"num_unique_values\": 14,\n        \"samples\": [\n          \"2024-04-02 10:00:35\",\n          \"2024-04-18 16:30:39\"\n        ],\n        \"semantic_type\": \"\",\n        \"description\": \"\"\n      }\n    },\n    {\n      \"column\": \"FIN\",\n      \"properties\": {\n        \"dtype\": \"date\",\n        \"min\": \"2024-02-05 10:20:14\",\n        \"max\": \"2024-06-01 16:57:31\",\n        \"num_unique_values\": 15,\n        \"samples\": [\n          \"2024-04-02 10:00:40\",\n          \"2024-03-18 12:03:20\"\n        ],\n        \"semantic_type\": \"\",\n        \"description\": \"\"\n      }\n    },\n    {\n      \"column\": \"HRS\",\n      \"properties\": {\n        \"dtype\": \"number\",\n        \"std\": 0.11377923486170174,\n        \"min\": 0.0,\n        \"max\": 0.39,\n        \"num_unique_values\": 8,\n        \"samples\": [\n          0.02,\n          0.01\n        ],\n        \"semantic_type\": \"\",\n        \"description\": \"\"\n      }\n    },\n    {\n      \"column\": \"#TRAFOS\",\n      \"properties\": {\n        \"dtype\": \"number\",\n        \"std\": 517,\n        \"min\": 325,\n        \"max\": 2150,\n        \"num_unique_values\": 13,\n        \"samples\": [\n          1051,\n          381\n        ],\n        \"semantic_type\": \"\",\n        \"description\": \"\"\n      }\n    },\n    {\n      \"column\": \"#USUARIOS\",\n      \"properties\": {\n        \"dtype\": \"number\",\n        \"std\": 27014,\n        \"min\": 0,\n        \"max\": 114221,\n        \"num_unique_values\": 13,\n        \"samples\": [\n          17885,\n          114221\n        ],\n        \"semantic_type\": \"\",\n        \"description\": \"\"\n      }\n    },\n    {\n      \"column\": \"EJECUTANDOSE\",\n      \"properties\": {\n        \"dtype\": \"category\",\n        \"num_unique_values\": 7,\n        \"samples\": [\n          \"09:07: CARLOS SIERRA INFORMA QUE REPARARON ARCO REVENTADO EN EL B14023 Y CAMBIARON 2 CONECTORES DE RANURA PARALELA, SOLICITAN DESATERRIZAR ENE-AZA 2, MIENTRAS CIERRAN CORTE VISIBLE EN COCA-COLA.\\n09:12: DESATERRIZADO ENE-AZA 2.\\nCERRADAS LINEAS AZA-ENE 1 Y 3.<br>Usuario / Fecha: juan carlos ortegon nunez  / 2024-05-20 09:19:08<br><br>08:14: CARLOS SIERRA INFORMA QUE TIENEN TENSION EN LA LINEA ENE30L16 EN EL B14023 DONDE HAY ARCO REVENTADO, POR LO CUAL SOLICITAN ABRIR AMBOS EXTREMOS ENA-AZA 1 Y 3; SE CONSULTA CON INGO MANUEL USCATEGUI QUIEN APRUEBA LAS MANIOBRAS, INDICA CARLOS SIERRA QUE DEMORAN MAS O MENOS UNA HORA REPARANDO EL DA?O YA QIE TAMBIEN VAN A CAMBIAR ALGUNOS AISLADORES QUE OBSERVAN DEFECTUOSOS.<br>Usuario / Fecha: juan carlos ortegon nunez  / 2024-05-20 08:31:39<br><br>SE REALIZA APERTURA DE LAS CUCHILLAS B15173 SE REALIZA NUEVAMENTE ENSAYO Y CIERRA NORMAL AL MOMENTO DE CERRAR LA TOPOLOGIA HACE UNA EXPLOSION QUEDA PENDIENTE PARA MA?ANA REVISAR LA ESTRUCTURA AISLADORES Y PARARRAYOS <br>Usuario / Fecha: efren suarez peralta  / 2024-05-19 18:33:48<br><br>13:50 Por descargas atmosf?ricas se presenta disparo simultaneo de los interruptores MTO30L12 AZA, ENE30L16 AZA_2, ENE30T11 Llegada TF1, ENE30L18 AZA_3.\\n13:52 se realiza intento de cierre al industrial 2 ENE30L16 y se presenta disparo PSO_AZA en ambos extremos apagando S/E Alta Suiza y Enea 33/13.2KV, hubo perdida de comunicaci?n en ambas subestaciones en el momento del disparo, se procedi? a realizar un barrido a los circuitos 13.2kv para volver a energizar.\\n13:55 cierre del interruptor MTO30L12 AZA llegando tensi?n a S/E Alta Suiza y Enea.\\n13:58 cierre del interruptor ENE30T11 Llegada TF1 \\n13:58 se normaliza topolog?a circuitos 13.2kv \\n13:59 Cierre del interruptor PSO_AZA 33KV en ambos extremos \\n14:01 apertura del seccionalizador AZA304D3 COCA COLA\\n14:01 Cierre de la transferencia 3EN6EN71 \\n14:02 Cierre del seccionalizador AZA304D4 \\n15:55 disparo circuito ENE30L17 Herveo afectando los industriales \\nSe realiza recorrido por parte de personal de SYL Carlos Alberto Sierra y no se encontr? todo normal en la red se ubicaron en Induma y solicitaron cerrar el interruptor ENE30L16 AZA_2\\n16:12 se cierra interruptor ENE30L16 y recibe normal se procede a normalizar topolog?a de los industriales y se cierra el seccionalizador AZA304D3 Coca Cola y se presento disparo con AR del interruptor  AZA30L14 informa el personal de SYL que se vio unas explosiones en la empresa de Induma   \\n<br>Usuario / Fecha: efren suarez peralta  / 2024-05-19 17:05:58<br><br>\",\n          \"-\"\n        ],\n        \"semantic_type\": \"\",\n        \"description\": \"\"\n      }\n    },\n    {\n      \"column\": \"EJECUTADA\",\n      \"properties\": {\n        \"dtype\": \"string\",\n        \"num_unique_values\": 13,\n        \"samples\": [\n          \"DISPARO CIRCUITO 33KV NORMAL POR ENSAYO\",\n          \"\\nSe presenta despeje de la barra de 115 kV en Subestaci\\u00f3n La Rosa al parecer por error humano en el lado de alta del TF1.\\nEn todos los interruptores de la subestaci\\u00f3n al momento de cierre no se dejaban cerrar por un mensaje que sal\\u00eda de una tierra.\\nFue necesario forzar el cierre de los interruptores.\\nAl igual se detect\\u00f3 problema en el coloreo din\\u00e1mico de la subestaci\\u00f3n La Hermosa el cual fue reportada a Lina Marcela Vera.\\nSubestaci\\u00f3n La Hermosa se presenta problemas para cerrar el TF1 por una se\\u00f1al de sincronizaci\\u00f3n, la cual tiene conocimiento STR y Subestaciones.\\n\\nUsuario / Fecha: diego soto galvis  / 2024-03-18 15:28:22\\nSE REQUIERE REVISAR LA CONDICI\\u00d3N DE SINCRONISMO DE HER30T16 DADO QUE NO CERR\\u00d3 DESDE NIVEL 3,2,1; A LAS 12:06 SE CERR\\u00d3 LA L\\u00cdNEA 33 KV BOSQUES-HERMOSA LLEVANDO TENSI\\u00d3N A LA BARRA 33 KV DE LA HERMOSA Y EN ESE INSTANTE EN NIVEL DOS SALE ALARME SINCRO OK (INFORMADO POR EL OPERADOR LOCAL CARLOS ALFONSO QUE ESTABA GESTIONANDO EL CIERRE CON APOYO DE EDWIN URREA); EN ESCADA SP7 SALI\\u00d3 LA ALARMA NO CONDICION SIN - APPEAR, A LAS 13:13 SE CERR\\u00d3 HER30T16 SIN DIFICULTAD Y EN ESE MISMO INTANTE SALI\\u00d3 EN SP7 LA SE\\u00d1AL:  NO CONDICION SIN - DISAPP; APARENTEMENTE HER30T16 TIENE LA CONDICI\\u00d3N DE BARRA VIVA PARA PODER CERRARSE LO CUAL NO ES COHERENTE; TAMBI\\u00c9N SE TUVO QUE RECONOCER EN NIVEL DOS LOS DISPAROS 86 DE LA SE HERMOSA, DADO QUE DESDE NIVEL 3 EN SP7 NO FUE POSIBLE.\\nUsuario / Fecha: edwin dario valencia londono  / 2024-03-18 20:08:22\"\n        ],\n        \"semantic_type\": \"\",\n        \"description\": \"\"\n      }\n    },\n    {\n      \"column\": \"texto unificado\",\n      \"properties\": {\n        \"dtype\": \"string\",\n        \"num_unique_values\": 13,\n        \"samples\": [\n          \"Causa desconocida - DISPARO CIRCUITO 33KV NORMAL POR ENSAYO\",\n          \"Apertura en redes del SDL por causa de equipos o l\\u00ed\\u00adneas del STN o STR TENER PRESENTE QUE EN SE LA ROSA EN EL MOMENTO DEL EVENTO SE ESTABA EJECUTANDO ORDEN PROGRAMADA 926537 CON CONSIGNACI\\u00d3N NACIONAL 2006830.\\n\\nDURANTE LA EJECUCION DE LAS LABORES, SE MATERIALIZA RIESGO DE DISPARO A LA BARRA 115 KV DE LA SE LA ROSA (AL PARECER A CAUSA DE ERROR HUMANO).\\n\\nINFORME DEL ING. SANTIAGO CARDONA VIA WSP.\\nBUENA TARDE, EN SE LA ROSA VAMOS A PROCEDER CON LA REUNION DE CHOQUE FRENTE AL DISPARO GENERADO CON EL PROP\\u00d3SITO DE IDENTIFICAR LA POSIBLE CAUSA DEL EVENTO?DE MOMENTO LOS REL\\u00c9S NO TIENEN EVENTOS ASOCIADOS A UN DISPARO 50BF, POR LO CUAL, SE REVISAR\\u00c1 SI EL DISPARO FUE GENERADO POR UNA CAUSA F\\u00cdSICA (CABLEADO EN LA MATRIZ DE LA PROTECCI\\u00d3N FALLA INTERRUPTOR). \\nSE ENCUENTRA REALIZANDO EL AN\\u00c1LISIS EN LA SUBESTACI\\u00d3N.\\n\\nCOMPLEMENTANDO EL MENSAJE ANTERIOR, SE REALIZ\\u00d3 LA REVISI\\u00d3N EN SITIO Y SE LOGR\\u00d3 IDENTIFICAR LA CAUSA DEL DISPARO A LA BARRA. DURANTE LA MANIPULACI\\u00d3N DEL CABLEADO DEL TABLERO QUE SE ESTABA INTERVINIENDO SE GENER\\u00d3 EL DISPARO 50BF EN 115 KV, EN CONSECUENCIA, EL TRANSFORMADOR 11533 KV DE LA SE LA HERMOSA ASUMI\\u00d3 MOMENT\\u00c1NEAMENTE LA CARGA DE CAMPESTRE, LA ROSA, BOSQUES DE LA ACUARELA Y LA HERMOSA LO CUAL DESENCADEN\\u00d3 SU POSTERIOR DISPARO POR SOBRECARGA.\\nSE TOMAR\\u00c1N LAS MEDIDAS RESPECTIVAS EN LA ROSA PARA INICIAR NUEVAMENTE LABORES, AS\\u00cd MISMO, @EDWIN URREA SE ENCUENTRA REVISANDO EL REL\\u00c9 DE LA BAH\\u00cdA HER30T16 PARA IDENTIFICAR EL MOTIVO POR EL CUAL EL INTERRUPTOR NO CERR\\u00d3 DURANTE EL RESTABLECIMIENTO.\\n\\nNOTA:  SE REQUIERE REVISAR LA CONDICI\\u00d3N DE SINCRONISMO DE HER30T16 DADO QUE NO CERR\\u00d3 DESDE NIVEL 3,2,1; A LAS  SE CERR\\u00d3 LA L\\u00cdNEA 33 KV BOSQUES-HERMOSA LLEVANDO TENSI\\u00d3N A LA BARRA 33 KV DE LA HERMOSA Y EN ESE INSTANTE EN NIVEL DOS SALE ALARME SINCRO OK (INFORMADO POR EL OPERADOR LOCAL CARLOS ALFONSO QUE ESTABA GESTIONANDO EL CIERRE CON APOYO DE EDWIN URREA); EN ESCADA SP7 SALI\\u00d3 LA ALARMA NO CONDICION SIN - APPEAR, A LAS  SE CERR\\u00d3 HER30T16 SIN DIFICULTAD Y EN ESE MISMO INTANTE SALI\\u00d3 EN SP7 LA SE\\u00d1AL:  NO CONDICION SIN - DISAPP; APARENTEMENTE HER30T16 TIENE LA CONDICI\\u00d3N DE BARRA VIVA PARA PODER CERRARSE LO CUAL NO ES COHERENTE; TAMBI\\u00c9N SE TUVO QUE RECONOCER EN NIVEL DOS LOS DISPAROS 86 DE LA SE HERMOSA, DADO QUE DESDE NIVEL 3 EN SP7 NO FUE POSIBLE.\\nUsuario  Fecha: edwin dario valencia londono    :27SE INTERCONECTA CIRCUITO HER23L16 COLMENAS POR APAGON GENERAL EN SUBESTACION LA HERMOSA Y SUB LA ROSAUsuario  Fecha: esteban galvis garcia    :33 \\nSe presenta despeje de la barra de 115 kV en Subestaci\\u00f3n La Rosa al parecer por error humano en el lado de alta del TF1.\\nEn todos los interruptores de la subestaci\\u00f3n al momento de cierre no se dejaban cerrar por un mensaje que sal\\u00eda de una tierra.\\nFue necesario forzar el cierre de los interruptores.\\nAl igual se detect\\u00f3 problema en el coloreo din\\u00e1mico de la subestaci\\u00f3n La Hermosa el cual fue reportada a Lina Marcela Vera.\\nSubestaci\\u00f3n La Hermosa se presenta problemas para cerrar el TF1 por una se\\u00f1al de sincronizaci\\u00f3n, la cual tiene conocimiento STR y Subestaciones.\\n\\nUsuario  Fecha: diego soto galvis    :22\\nSE REQUIERE REVISAR LA CONDICI\\u00d3N DE SINCRONISMO DE HER30T16 DADO QUE NO CERR\\u00d3 DESDE NIVEL 3,2,1; A LAS  SE CERR\\u00d3 LA L\\u00cdNEA 33 KV BOSQUES-HERMOSA LLEVANDO TENSI\\u00d3N A LA BARRA 33 KV DE LA HERMOSA Y EN ESE INSTANTE EN NIVEL DOS SALE ALARME SINCRO OK (INFORMADO POR EL OPERADOR LOCAL CARLOS ALFONSO QUE ESTABA GESTIONANDO EL CIERRE CON APOYO DE EDWIN URREA); EN ESCADA SP7 SALI\\u00d3 LA ALARMA NO CONDICION SIN - APPEAR, A LAS  SE CERR\\u00d3 HER30T16 SIN DIFICULTAD Y EN ESE MISMO INTANTE SALI\\u00d3 EN SP7 LA SE\\u00d1AL:  NO CONDICION SIN - DISAPP; APARENTEMENTE HER30T16 TIENE LA CONDICI\\u00d3N DE BARRA VIVA PARA PODER CERRARSE LO CUAL NO ES COHERENTE; TAMBI\\u00c9N SE TUVO QUE RECONOCER EN NIVEL DOS LOS DISPAROS 86 DE LA SE HERMOSA, DADO QUE DESDE NIVEL 3 EN SP7 NO FUE POSIBLE.\\nUsuario  Fecha: edwin dario valencia londono    :22\"\n        ],\n        \"semantic_type\": \"\",\n        \"description\": \"\"\n      }\n    },\n    {\n      \"column\": \"tipo_falla\",\n      \"properties\": {\n        \"dtype\": \"category\",\n        \"num_unique_values\": 4,\n        \"samples\": [\n          \"Disparo\",\n          \"Descarga\"\n        ],\n        \"semantic_type\": \"\",\n        \"description\": \"\"\n      }\n    },\n    {\n      \"column\": \"justificacion\",\n      \"properties\": {\n        \"dtype\": \"category\",\n        \"num_unique_values\": 7,\n        \"samples\": [\n          \"La falla presentada en el comentario encaja mejor en la categor\\u00eda de \\\"Arco reventado\\\".\",\n          \"La falla presentada en el comentario encaja mejor en la categor\\u00eda de \\\"Disparo\\\".\"\n        ],\n        \"semantic_type\": \"\",\n        \"description\": \"\"\n      }\n    }\n  ]\n}"
            }
          },
          "metadata": {},
          "execution_count": 31
        }
      ]
    },
    {
      "cell_type": "markdown",
      "source": [
        "nos quedamos unicamente con los campos relevantes"
      ],
      "metadata": {
        "id": "WHPfhtvZ09v0"
      }
    },
    {
      "cell_type": "code",
      "source": [
        "# Seleccionar solo las columnas 'categoria' y 'respuesta'\n",
        "eventos_muestras_filtered = eventos_muestras[['EVENTO','CIRCUITO','tipo_falla','justificacion']]\n",
        "eventos_muestras_filtered.shape"
      ],
      "metadata": {
        "colab": {
          "base_uri": "https://localhost:8080/"
        },
        "id": "m2dmSjRn1A7C",
        "outputId": "ad27c85b-6d7d-468e-ed7f-0528c824951d"
      },
      "execution_count": 32,
      "outputs": [
        {
          "output_type": "execute_result",
          "data": {
            "text/plain": [
              "(15, 4)"
            ]
          },
          "metadata": {},
          "execution_count": 32
        }
      ]
    },
    {
      "cell_type": "code",
      "source": [
        "import pandas as pd\n",
        "from langchain_experimental.agents.agent_toolkits import create_pandas_dataframe_agent\n",
        "from langchain_openai import OpenAI\n",
        "from langchain_community.chat_models import ChatOpenAI\n",
        "import os"
      ],
      "metadata": {
        "id": "J6dtCqlbvXL0"
      },
      "execution_count": 33,
      "outputs": []
    },
    {
      "cell_type": "code",
      "source": [
        "agent = create_pandas_dataframe_agent(\n",
        "        ChatOpenAI(temperature=0, model=\"gpt-3.5-turbo\"),\n",
        "        eventos_muestras_filtered,\n",
        "        verbose=True,\n",
        "        agent_type=\"openai-functions\",#prefix=descripcion_df,  # Añade la descripción al inicio del prompt #suffix=suffix_instrucciones.format(path_plot=path_plot),\n",
        "        allow_dangerous_code=True,\n",
        "        include_df_in_prompt=True,  # Incluye las primeras filas del DataFrame en el prompt\n",
        "        number_of_head_rows=5)\n",
        "\n",
        "query=\"Cuantos registros hay por tipo de falla\"\n",
        "response=agent.invoke(query)[\"output\"]"
      ],
      "metadata": {
        "colab": {
          "base_uri": "https://localhost:8080/"
        },
        "id": "K3fmUThavDVa",
        "outputId": "a0b2f815-2c32-452d-c6c0-b17124f6e5a4"
      },
      "execution_count": 34,
      "outputs": [
        {
          "output_type": "stream",
          "name": "stdout",
          "text": [
            "\n",
            "\n",
            "\u001b[1m> Entering new AgentExecutor chain...\u001b[0m\n",
            "\u001b[32;1m\u001b[1;3m\n",
            "Invoking: `python_repl_ast` with `{'query': \"df['tipo_falla'].value_counts()\"}`\n",
            "\n",
            "\n",
            "\u001b[0m\u001b[36;1m\u001b[1;3mtipo_falla\n",
            "Disparo                    11\n",
            "Descarga                    2\n",
            "Arco reventado              1\n",
            "Arco reventado o suelto     1\n",
            "Name: count, dtype: int64\u001b[0m\u001b[32;1m\u001b[1;3mHay 11 registros de tipo \"Disparo\", 2 registros de tipo \"Descarga\", 1 registro de tipo \"Arco reventado\" y 1 registro de tipo \"Arco reventado o suelto\".\u001b[0m\n",
            "\n",
            "\u001b[1m> Finished chain.\u001b[0m\n"
          ]
        }
      ]
    },
    {
      "cell_type": "code",
      "source": [
        "response"
      ],
      "metadata": {
        "colab": {
          "base_uri": "https://localhost:8080/",
          "height": 35
        },
        "id": "dD1r3jbavsIX",
        "outputId": "1dfe6f92-ae47-4f69-d333-8e24732e6d07"
      },
      "execution_count": 35,
      "outputs": [
        {
          "output_type": "execute_result",
          "data": {
            "text/plain": [
              "'Hay 11 registros de tipo \"Disparo\", 2 registros de tipo \"Descarga\", 1 registro de tipo \"Arco reventado\" y 1 registro de tipo \"Arco reventado o suelto\".'"
            ],
            "application/vnd.google.colaboratory.intrinsic+json": {
              "type": "string"
            }
          },
          "metadata": {},
          "execution_count": 35
        }
      ]
    },
    {
      "cell_type": "code",
      "source": [
        "query=\"Construye un gráfico en el cual muestres la cantidad de registro por el tipo de falla\"\n",
        "path_plot=\"/content/image.jpg\"\n",
        "prompt=f\"\"\"{query}. Construye el gráfico de la forma más estética posible para mostrar a un usuario.\n",
        "    Puedes utilizar los siguientes colores: verde y gris en diferentes tonalidades (si es necesario, utiliza más colores).\n",
        "    Además, los títulos y ejes de los gráficos deben estar en español.\n",
        "    Guarda la imagen en la ruta relativa {path_plot}.\n",
        "    No ejecutes el comando plt.show().\n",
        "    Siempre ejecuta el comando plt.tight_layout().\"\"\"\n",
        "\n",
        "agent = create_pandas_dataframe_agent(\n",
        "        ChatOpenAI(temperature=0, model=\"gpt-3.5-turbo\"),\n",
        "        eventos_muestras_filtered,\n",
        "        verbose=True,\n",
        "        agent_type=\"openai-functions\",#prefix=descripcion_df,  # Añade la descripción al inicio del prompt #suffix=suffix_instrucciones.format(path_plot=path_plot),\n",
        "        allow_dangerous_code=True,\n",
        "        include_df_in_prompt=True,  # Incluye las primeras filas del DataFrame en el prompt\n",
        "        )\n",
        "\n",
        "response=agent.invoke(prompt)[\"output\"]"
      ],
      "metadata": {
        "colab": {
          "base_uri": "https://localhost:8080/",
          "height": 949
        },
        "id": "ue3WxJPPvwH_",
        "outputId": "087dabda-ba61-45c6-ecf7-7682d47daabc"
      },
      "execution_count": 39,
      "outputs": [
        {
          "output_type": "stream",
          "name": "stdout",
          "text": [
            "\n",
            "\n",
            "\u001b[1m> Entering new AgentExecutor chain...\u001b[0m\n",
            "\u001b[32;1m\u001b[1;3m\n",
            "Invoking: `python_repl_ast` with `{'query': \"import matplotlib.pyplot as plt\\nimport pandas as pd\\n\\n# Calcular la cantidad de registros por tipo de falla\\ncounts = df['tipo_falla'].value_counts()\\n\\ncolors = ['#4CAF50', '#9E9E9E', '#689F38', '#BDBDBD']\\n\\n# Crear el gráfico de barras\\ncounts.plot(kind='bar', color=colors, figsize=(10, 6))\\nplt.title('Cantidad de Registros por Tipo de Falla', fontsize=16)\\nplt.xlabel('Tipo de Falla', fontsize=12)\\nplt.ylabel('Cantidad de Registros', fontsize=12)\\nplt.xticks(rotation=45)\\nplt.tight_layout()\\n\\n# Guardar la imagen en la ruta relativa /content/image.jpg\\nplt.savefig('/content/image.jpg')\"}`\n",
            "responded: Para crear el gráfico solicitado y guardar la imagen en la ruta especificada, seguiré los siguientes pasos:\n",
            "\n",
            "1. Calcular la cantidad de registros por tipo de falla.\n",
            "2. Crear un gráfico de barras con los colores especificados y los títulos en español.\n",
            "3. Guardar la imagen en la ruta relativa `/content/image.jpg`.\n",
            "\n",
            "A continuación, procederé a realizar estos pasos:\n",
            "\n",
            "\u001b[0m\u001b[36;1m\u001b[1;3m\u001b[0m\u001b[32;1m\u001b[1;3mEl gráfico de barras que muestra la cantidad de registros por tipo de falla ha sido creado y guardado en la ruta relativa `/content/image.jpg`.\n",
            "\n",
            "¡Puedes descargar la imagen para visualizarla!\u001b[0m\n",
            "\n",
            "\u001b[1m> Finished chain.\u001b[0m\n"
          ]
        },
        {
          "output_type": "display_data",
          "data": {
            "text/plain": [
              "<Figure size 1000x600 with 1 Axes>"
            ],
            "image/png": "[encoded data removed]"
          },
          "metadata": {}
        }
      ]
    },
    {
      "cell_type": "code",
      "source": [],
      "metadata": {
        "id": "CbpuRnFgwFNb"
      },
      "execution_count": null,
      "outputs": []
    }
  ]
}